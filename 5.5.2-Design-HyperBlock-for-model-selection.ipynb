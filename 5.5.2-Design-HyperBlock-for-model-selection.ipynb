{
 "cells": [
  {
   "cell_type": "code",
   "execution_count": 0,
   "metadata": {
    "colab_type": "code"
   },
   "outputs": [],
   "source": [
    "!pip install -r https://raw.githubusercontent.com/datamllab/automl-in-action-notebooks/master/requirements.txt\n"
   ]
  },
  {
   "cell_type": "code",
   "execution_count": 0,
   "metadata": {
    "colab_type": "code"
   },
   "outputs": [],
   "source": [
    "import tensorflow as tf\n",
    "import numpy as np\n",
    "\n",
    "model = tf.keras.applications.DenseNet121(include_top=False, weights=None)\n",
    "print(model(np.random.rand(100, 32, 32, 3)).shape)\n"
   ]
  },
  {
   "cell_type": "markdown",
   "metadata": {
    "colab_type": "text"
   },
   "source": [
    "### Build an AutoML block to select among different DenseNet models\n"
   ]
  },
  {
   "cell_type": "code",
   "execution_count": 0,
   "metadata": {
    "colab_type": "code"
   },
   "outputs": [],
   "source": [
    "import autokeras as ak\n",
    "import tensorflow as tf\n",
    "\n",
    "\n",
    "class DenseNetBlock(ak.Block):\n",
    "    def build(self, hp, inputs):\n",
    "        version = hp.Choice(\"version\", [\"DenseNet121\", \"DenseNet169\", \"DenseNet201\"])\n",
    "        if version == \"DenseNet121\":\n",
    "            dense_net_func = tf.keras.applications.DenseNet121\n",
    "        elif version == \"DenseNet169\":\n",
    "            dense_net_func = tf.keras.applications.DenseNet169\n",
    "        elif version == \"DenseNet201\":\n",
    "            dense_net_func = tf.keras.applications.DenseNet201\n",
    "        return dense_net_func(include_top=False, weights=None)(inputs)\n",
    "\n"
   ]
  },
  {
   "cell_type": "markdown",
   "metadata": {
    "colab_type": "text"
   },
   "source": [
    "### Build a HyperBlock to select between DenseNet and ResNet\n"
   ]
  },
  {
   "cell_type": "code",
   "execution_count": 0,
   "metadata": {
    "colab_type": "code"
   },
   "outputs": [],
   "source": [
    "# Model selection block\n",
    "class SelectionBlock(ak.Block):\n",
    "    def build(self, hp, inputs):\n",
    "        if hp.Choice(\"model_type\", [\"densenet\", \"resnet\"]) == \"densenet\":\n",
    "            outputs = DenseNetBlock().build(hp, inputs)\n",
    "        else:\n",
    "            outputs = ak.ResNetBlock().build(hp, inputs)\n",
    "        return outputs\n",
    "\n",
    "\n",
    "# Model selection block with conditional scope\n",
    "class SelectionBlock(ak.Block):\n",
    "    def build(self, hp, inputs):\n",
    "        if hp.Choice(\"model_type\", [\"densenet\", \"resnet\"]) == \"densenet\":\n",
    "            with hp.conditional_scope(\"model_type\", [\"densenet\"]):\n",
    "                outputs = DenseNetBlock().build(hp, inputs)\n",
    "        else:\n",
    "            with hp.conditional_scope(\"model_type\", [\"resnet\"]):\n",
    "                outputs = ak.ResNetBlock().build(hp, inputs)\n",
    "        return outputs\n",
    "\n"
   ]
  },
  {
   "cell_type": "markdown",
   "metadata": {
    "colab_type": "text"
   },
   "source": [
    "### Build model with the customized HyperBlock and conduct search\n"
   ]
  },
  {
   "cell_type": "code",
   "execution_count": 0,
   "metadata": {
    "colab_type": "code"
   },
   "outputs": [],
   "source": [
    "input_node = ak.ImageInput()\n",
    "output_node = SelectionBlock()(input_node)\n",
    "output_node = ak.ClassificationHead()(output_node)\n",
    "auto_model = ak.AutoModel(input_node, output_node, max_trials=5, overwrite=True)\n",
    "\n",
    "from tensorflow.keras.datasets import cifar10\n",
    "\n",
    "(x_train, y_train), (x_test, y_test) = cifar10.load_data()\n",
    "auto_model.fit(x_train[:100], y_train[:100], epochs=1)\n",
    "\n",
    "auto_model.tuner.search_space_summary()\n"
   ]
  }
 ],
 "metadata": {
  "colab": {
   "collapsed_sections": [],
   "name": "5.5.2-Design-HyperBlock-for-model-selection",
   "private_outputs": false,
   "provenance": [],
   "toc_visible": true
  },
  "kernelspec": {
   "display_name": "Python 3",
   "language": "python",
   "name": "python3"
  },
  "language_info": {
   "codemirror_mode": {
    "name": "ipython",
    "version": 3
   },
   "file_extension": ".py",
   "mimetype": "text/x-python",
   "name": "python",
   "nbconvert_exporter": "python",
   "pygments_lexer": "ipython3",
   "version": "3.7.0"
  }
 },
 "nbformat": 4,
 "nbformat_minor": 0
}