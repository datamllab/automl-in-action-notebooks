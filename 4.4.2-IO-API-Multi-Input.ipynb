{
 "cells": [
  {
   "cell_type": "code",
   "execution_count": 0,
   "metadata": {
    "colab_type": "code"
   },
   "outputs": [],
   "source": [
    "!pip install -r https://raw.githubusercontent.com/datamllab/automl-in-action-notebooks/master/requirements.txt\n"
   ]
  },
  {
   "cell_type": "code",
   "execution_count": 0,
   "metadata": {
    "colab_type": "code"
   },
   "outputs": [],
   "source": [
    "import tensorflow as tf\n"
   ]
  },
  {
   "cell_type": "markdown",
   "metadata": {
    "colab_type": "text"
   },
   "source": [
    "### Create synthetic image - attributes dataset\n"
   ]
  },
  {
   "cell_type": "code",
   "execution_count": 0,
   "metadata": {
    "colab_type": "code"
   },
   "outputs": [],
   "source": [
    "import numpy as np\n",
    "\n",
    "num_instances = 100\n",
    "\n",
    "# Generate image data.\n",
    "image_data = np.random.rand(num_instances, 32, 32, 3).astype(np.float32)\n",
    "image_train, image_test = image_data[:80], image_data[80:]\n",
    "\n",
    "# Generate structured data.\n",
    "structured_data = np.random.rand(num_instances, 20).astype(np.float32)\n",
    "structured_train, structured_test = structured_data[:80], structured_data[80:]\n",
    "\n",
    "# Generate classification labels of five classes.\n",
    "classification_target = np.random.randint(5, size=num_instances)\n",
    "target_train, target_test = classification_target[:80], classification_target[80:]\n"
   ]
  },
  {
   "cell_type": "markdown",
   "metadata": {
    "colab_type": "text"
   },
   "source": [
    "### IO API for multi-input learning\n"
   ]
  },
  {
   "cell_type": "code",
   "execution_count": 0,
   "metadata": {
    "colab_type": "code"
   },
   "outputs": [],
   "source": [
    "import autokeras as ak\n",
    "\n",
    "# Initialize the IO API.\n",
    "multi_input_learner = ak.AutoModel(\n",
    "    inputs=[ak.ImageInput(), ak.StructuredDataInput()],\n",
    "    outputs=ak.ClassificationHead(),\n",
    "    max_trials=3,\n",
    "    #     project_name='io_api_multimodal',\n",
    ")\n",
    "\n",
    "# Fit the model with prepared data.\n",
    "multi_input_learner.fit(\n",
    "    [image_train, structured_train], target_train, epochs=10, verbose=2\n",
    ")\n"
   ]
  },
  {
   "cell_type": "markdown",
   "metadata": {
    "colab_type": "text"
   },
   "source": [
    "### Evaluate the best model on the test data.\n"
   ]
  },
  {
   "cell_type": "code",
   "execution_count": 0,
   "metadata": {
    "colab_type": "code"
   },
   "outputs": [],
   "source": [
    "test_loss, test_acc = multi_input_learner.evaluate(\n",
    "    [image_test, structured_test], target_test, verbose=0\n",
    ")\n",
    "print(\"Test accuracy: \", test_acc)\n"
   ]
  }
 ],
 "metadata": {
  "colab": {
   "collapsed_sections": [],
   "name": "4.4.2-IO-API-Multi-Input",
   "private_outputs": false,
   "provenance": [],
   "toc_visible": true
  },
  "kernelspec": {
   "display_name": "Python 3",
   "language": "python",
   "name": "python3"
  },
  "language_info": {
   "codemirror_mode": {
    "name": "ipython",
    "version": 3
   },
   "file_extension": ".py",
   "mimetype": "text/x-python",
   "name": "python",
   "nbconvert_exporter": "python",
   "pygments_lexer": "ipython3",
   "version": "3.7.0"
  }
 },
 "nbformat": 4,
 "nbformat_minor": 0
}