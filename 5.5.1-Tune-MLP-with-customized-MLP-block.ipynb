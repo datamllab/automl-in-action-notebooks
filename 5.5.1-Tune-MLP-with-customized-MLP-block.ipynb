{
 "cells": [
  {
   "cell_type": "code",
   "execution_count": 0,
   "metadata": {
    "colab_type": "code"
   },
   "outputs": [],
   "source": [
    "!pip install -r https://raw.githubusercontent.com/datamllab/automl-in-action-notebooks/master/requirements.txt\n"
   ]
  },
  {
   "cell_type": "markdown",
   "metadata": {
    "colab_type": "text"
   },
   "source": [
    "## Customize a block for tuning the number of units\n"
   ]
  },
  {
   "cell_type": "code",
   "execution_count": 0,
   "metadata": {
    "colab_type": "code"
   },
   "outputs": [],
   "source": [
    "from tensorflow import keras\n",
    "from tensorflow.keras import layers\n",
    "\n",
    "\n",
    "def build_mlp():\n",
    "    input_node = keras.Input(shape=(20,))\n",
    "\n",
    "    output_node = layers.Dense(units=32, activation=\"relu\")(input_node)\n",
    "    output_node = layers.Dense(units=32, activation=\"relu\")(output_node)\n",
    "    output_node = layers.Dense(units=1, activation=\"sigmoid\")(output_node)\n",
    "\n",
    "    model = keras.Model(input_node, output_node)\n",
    "    return model\n",
    "\n",
    "\n",
    "mlp_model = build_mlp()\n"
   ]
  },
  {
   "cell_type": "code",
   "execution_count": 0,
   "metadata": {
    "colab_type": "code"
   },
   "outputs": [],
   "source": [
    "import autokeras as ak\n",
    "import tensorflow as tf\n",
    "from tensorflow.keras import layers\n",
    "\n",
    "\n",
    "class MlpBlock(ak.Block):\n",
    "    def build(self, hp, inputs):\n",
    "\n",
    "        input_node = tf.nest.flatten(inputs)[0]\n",
    "\n",
    "        units = hp.Int(name=\"units\", min_value=32, max_value=512, step=32)\n",
    "\n",
    "        output_node = layers.Dense(units=units, activation=\"relu\")(input_node)\n",
    "        output_node = layers.Dense(units=units, activation=\"relu\")(output_node)\n",
    "\n",
    "        return output_node\n",
    "\n"
   ]
  },
  {
   "cell_type": "code",
   "execution_count": 0,
   "metadata": {
    "colab_type": "code"
   },
   "outputs": [],
   "source": [
    "import autokeras as ak\n",
    "import tensorflow as tf\n",
    "from tensorflow.keras import layers\n",
    "\n",
    "\n",
    "class MlpBlock(ak.Block):\n",
    "    def build(self, hp, inputs):\n",
    "\n",
    "        input_node = tf.nest.flatten(inputs)[0]\n",
    "\n",
    "        units_1 = hp.Int(name=\"units_1\", min_value=32, max_value=512, step=32)\n",
    "\n",
    "        units_2 = hp.Int(name=\"units_2\", min_value=32, max_value=512, step=32)\n",
    "\n",
    "        output_node = layers.Dense(units=units_1, activation=\"relu\")(input_node)\n",
    "\n",
    "        output_node = layers.Dense(units=units_2, activation=\"relu\")(output_node)\n",
    "\n",
    "        return output_node\n",
    "\n"
   ]
  },
  {
   "cell_type": "markdown",
   "metadata": {
    "colab_type": "text"
   },
   "source": [
    "## Customize a block for tuning different types of hyperparameters\n"
   ]
  },
  {
   "cell_type": "code",
   "execution_count": 0,
   "metadata": {
    "colab_type": "code"
   },
   "outputs": [],
   "source": [
    "import autokeras as ak\n",
    "import tensorflow as tf\n",
    "from tensorflow.keras import layers\n",
    "\n",
    "\n",
    "class MlpBlock(ak.Block):\n",
    "    def build(self, hp, inputs):\n",
    "        output_node = tf.nest.flatten(inputs)[0]\n",
    "        for i in range(hp.Choice(\"num_layers\", [1, 2, 3])):\n",
    "            output_node = layers.Dense(\n",
    "                units=hp.Int(\"units_\" + str(i), min_value=32, max_value=512, step=32),\n",
    "                activation=\"relu\",\n",
    "            )(output_node)\n",
    "        return output_node\n",
    "\n"
   ]
  },
  {
   "cell_type": "code",
   "execution_count": 0,
   "metadata": {
    "colab_type": "code"
   },
   "outputs": [],
   "source": [
    "import autokeras as ak\n",
    "import tensorflow as tf\n",
    "from tensorflow.keras import layers\n",
    "\n",
    "\n",
    "class MlpBlock(ak.Block):\n",
    "    def build(self, hp, inputs):\n",
    "        output_node = tf.nest.flatten(inputs)[0]\n",
    "        for i in range(hp.Choice(\"num_layers\", [1, 2, 3])):\n",
    "            output_node = layers.Dense(\n",
    "                units=hp.Int(\"units_\" + str(i), min_value=32, max_value=512, step=32),\n",
    "                activation=\"relu\",\n",
    "            )(output_node)\n",
    "        if hp.Boolean(\"dropout\"):\n",
    "            output_node = layers.Dropout(\n",
    "                rate=hp.Float(\"dropout_rate\", min_value=0, max_value=1)\n",
    "            )(output_node)\n",
    "        return output_node\n",
    "\n"
   ]
  },
  {
   "cell_type": "markdown",
   "metadata": {
    "colab_type": "text"
   },
   "source": [
    "## Using the customized block to create an AutoML pipeline\n"
   ]
  },
  {
   "cell_type": "code",
   "execution_count": 0,
   "metadata": {
    "colab_type": "code"
   },
   "outputs": [],
   "source": [
    "import keras_tuner as kt\n",
    "\n",
    "hp = kt.HyperParameters()\n",
    "inputs = tf.keras.Input(shape=(20,))\n",
    "MlpBlock().build(hp, inputs)\n"
   ]
  },
  {
   "cell_type": "code",
   "execution_count": 0,
   "metadata": {
    "colab_type": "code"
   },
   "outputs": [],
   "source": [
    "import numpy as np\n",
    "\n",
    "x_train = np.random.rand(100, 20)\n",
    "y_train = np.random.rand(100, 1)\n",
    "x_test = np.random.rand(100, 20)\n",
    "\n",
    "input_node = ak.StructuredDataInput()\n",
    "output_node = MlpBlock()(input_node)\n",
    "output_node = ak.RegressionHead()(output_node)\n",
    "auto_model = ak.AutoModel(input_node, output_node, max_trials=3, overwrite=True)\n",
    "auto_model.fit(x_train, y_train, epochs=1)\n"
   ]
  },
  {
   "cell_type": "code",
   "execution_count": 0,
   "metadata": {
    "colab_type": "code"
   },
   "outputs": [],
   "source": [
    "auto_model.predict(x_test).shape\n"
   ]
  },
  {
   "cell_type": "code",
   "execution_count": 0,
   "metadata": {
    "colab_type": "code"
   },
   "outputs": [],
   "source": [
    "auto_model.tuner.search_space_summary()\n"
   ]
  }
 ],
 "metadata": {
  "colab": {
   "collapsed_sections": [],
   "name": "5.5.1-Tune-MLP-with-customized-MLP-block",
   "private_outputs": false,
   "provenance": [],
   "toc_visible": true
  },
  "kernelspec": {
   "display_name": "Python 3",
   "language": "python",
   "name": "python3"
  },
  "language_info": {
   "codemirror_mode": {
    "name": "ipython",
    "version": 3
   },
   "file_extension": ".py",
   "mimetype": "text/x-python",
   "name": "python",
   "nbconvert_exporter": "python",
   "pygments_lexer": "ipython3",
   "version": "3.7.0"
  }
 },
 "nbformat": 4,
 "nbformat_minor": 0
}