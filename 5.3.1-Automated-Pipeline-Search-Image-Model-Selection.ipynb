{
 "cells": [
  {
   "cell_type": "code",
   "execution_count": 0,
   "metadata": {
    "colab_type": "code"
   },
   "outputs": [],
   "source": [
    "!pip install -r https://raw.githubusercontent.com/datamllab/automl-in-action-notebooks/master/requirements.txt\n"
   ]
  },
  {
   "cell_type": "markdown",
   "metadata": {
    "colab_type": "text"
   },
   "source": [
    "## Load MNIST dataset\n"
   ]
  },
  {
   "cell_type": "code",
   "execution_count": 0,
   "metadata": {
    "colab_type": "code"
   },
   "outputs": [],
   "source": [
    "from tensorflow.keras.datasets import cifar10, fashion_mnist, mnist\n",
    "\n",
    "(x_train, y_train), (x_test, y_test) = mnist.load_data()\n",
    "print(\"Training image shape:\", x_train.shape)  # (60000, 28, 28)\n",
    "print(\"Training label shape:\", y_train.shape)  # (60000,)\n",
    "print(\"First five training labels:\", y_train[:5])  # array([5 0 4 1 9], dtype=uint8)\n"
   ]
  },
  {
   "cell_type": "markdown",
   "metadata": {
    "colab_type": "text"
   },
   "source": [
    "## ResNetBlock\n"
   ]
  },
  {
   "cell_type": "code",
   "execution_count": 0,
   "metadata": {
    "colab_type": "code"
   },
   "outputs": [],
   "source": [
    "import timeit\n",
    "import autokeras as ak\n",
    "\n",
    "input_node = ak.ImageInput()\n",
    "output_node = ak.Normalization()(input_node)\n",
    "output_node = ak.ResNetBlock()(output_node)\n",
    "output_node = ak.ClassificationHead()(output_node)\n",
    "\n",
    "resnet_auto_model = ak.AutoModel(\n",
    "    inputs=input_node, outputs=output_node, max_trials=3, overwrite=True, seed=42\n",
    ")\n",
    "\n",
    "start_time = timeit.default_timer()\n",
    "# Use the first 100 training samples for 1 epoch with batch_size=8 as a quick demo.\n",
    "# You may run with the full dataset with 10 epochs and a larger batch size, but expect a longer training time.\n",
    "resnet_auto_model.fit(x_train[:100], y_train[:100], epochs=1, batch_size=8)\n",
    "stop_time = timeit.default_timer()\n",
    "print(\"Total time: {time} seconds.\".format(time=round(stop_time - start_time, 2)))\n"
   ]
  },
  {
   "cell_type": "markdown",
   "metadata": {
    "colab_type": "text"
   },
   "source": [
    "### Get the summarized results during the tuning process\n"
   ]
  },
  {
   "cell_type": "code",
   "execution_count": 0,
   "metadata": {
    "colab_type": "code"
   },
   "outputs": [],
   "source": [
    "resnet_auto_model.tuner.results_summary()\n"
   ]
  },
  {
   "cell_type": "markdown",
   "metadata": {
    "colab_type": "text"
   },
   "source": [
    "### Display best model\n"
   ]
  },
  {
   "cell_type": "code",
   "execution_count": 0,
   "metadata": {
    "colab_type": "code"
   },
   "outputs": [],
   "source": [
    "best_resnet_model = resnet_auto_model.export_model()\n",
    "best_resnet_model.summary()\n"
   ]
  },
  {
   "cell_type": "markdown",
   "metadata": {
    "colab_type": "text"
   },
   "source": [
    "### Evaluate the best resnet model on the test data.\n"
   ]
  },
  {
   "cell_type": "code",
   "execution_count": 0,
   "metadata": {
    "colab_type": "code"
   },
   "outputs": [],
   "source": [
    "# Only evaluating the first 100 samples as a quick demo\n",
    "test_loss, test_acc = resnet_auto_model.evaluate(\n",
    "    x_test[:100], y_test[:100], batch_size=8\n",
    ")\n",
    "print(\"Accuracy: {accuracy}%\".format(accuracy=round(test_acc * 100, 2)))\n"
   ]
  },
  {
   "cell_type": "markdown",
   "metadata": {
    "colab_type": "text"
   },
   "source": [
    "## XceptionBlock\n"
   ]
  },
  {
   "cell_type": "code",
   "execution_count": 0,
   "metadata": {
    "colab_type": "code"
   },
   "outputs": [],
   "source": [
    "import autokeras as ak\n",
    "\n",
    "input_node = ak.ImageInput()\n",
    "output_node = ak.Normalization()(input_node)\n",
    "output_node = ak.XceptionBlock()(output_node)\n",
    "output_node = ak.ClassificationHead()(output_node)\n",
    "\n",
    "xception_auto_model = ak.AutoModel(\n",
    "    inputs=input_node, outputs=output_node, max_trials=3, overwrite=True, seed=42\n",
    ")\n",
    "\n",
    "start_time = timeit.default_timer()\n",
    "# Use the first 100 training samples for 1 epoch with batch_size=8 as a quick demo.\n",
    "# You may run with the full dataset with 10 epochs and a larger batch size, but expect a longer training time.\n",
    "xception_auto_model.fit(x_train[:100], y_train[:100], epochs=1, batch_size=8)\n",
    "stop_time = timeit.default_timer()\n",
    "print(\"Total time: {time} seconds.\".format(time=round(stop_time - start_time, 2)))\n"
   ]
  },
  {
   "cell_type": "markdown",
   "metadata": {
    "colab_type": "text"
   },
   "source": [
    "### Display the best xception model\n"
   ]
  },
  {
   "cell_type": "code",
   "execution_count": 0,
   "metadata": {
    "colab_type": "code"
   },
   "outputs": [],
   "source": [
    "import tensorflow as tf\n",
    "\n",
    "best_xception_model = xception_auto_model.export_model()\n",
    "tf.keras.utils.plot_model(\n",
    "    best_xception_model, show_shapes=True, expand_nested=True\n",
    ")  # rankdir='LR'\n",
    "\n",
    "best_xception_model.summary()\n"
   ]
  },
  {
   "cell_type": "markdown",
   "metadata": {
    "colab_type": "text"
   },
   "source": [
    "### Evaluate the best xception model on the test data.\n"
   ]
  },
  {
   "cell_type": "code",
   "execution_count": 0,
   "metadata": {
    "colab_type": "code"
   },
   "outputs": [],
   "source": [
    "# Only evaluating the first 100 samples as a quick demo\n",
    "test_loss, test_acc = resnet_auto_model.evaluate(x_test[:100], y_test[:100])\n",
    "print(\"Accuracy: {accuracy}%\".format(accuracy=round(test_acc * 100, 2)))\n"
   ]
  },
  {
   "cell_type": "markdown",
   "metadata": {
    "colab_type": "text"
   },
   "source": [
    "## HyperBlock for image classification (ImageBlock)\n"
   ]
  },
  {
   "cell_type": "code",
   "execution_count": 0,
   "metadata": {
    "colab_type": "code"
   },
   "outputs": [],
   "source": [
    "import timeit\n",
    "import autokeras as ak\n",
    "\n",
    "input_node = ak.ImageInput()\n",
    "output_node = ak.ImageBlock(\n",
    "    # Normalize the dataset.\n",
    "    normalize=True,\n",
    "    # Do not do data augmentation.\n",
    "    augment=False,\n",
    ")(input_node)\n",
    "output_node = ak.ClassificationHead(dropout=0.0)(output_node)\n",
    "\n",
    "auto_model = ak.AutoModel(\n",
    "    inputs=input_node, outputs=output_node, max_trials=3, overwrite=True, seed=42\n",
    ")\n",
    "\n",
    "start_time = timeit.default_timer()\n",
    "# Use the first 100 training samples for 1 epoch and batch_size=8 as a quick demo.\n",
    "# You may run with the full dataset with 10 epochs with a larger batch size, but expect a longer training time.\n",
    "auto_model.fit(x_train[:100], y_train[:100], epochs=1, batch_size=8)\n",
    "stop_time = timeit.default_timer()\n",
    "print(\"Total time: {time} seconds.\".format(time=round(stop_time - start_time, 2)))\n",
    "\n",
    "auto_model.tuner.results_summary(num_trials=1)\n",
    "\n",
    "best_model = auto_model.export_model()\n",
    "best_model.summary()\n",
    "\n",
    "# Only evaluating the first 100 samples as a quick demo\n",
    "test_loss, test_acc = auto_model.evaluate(x_test[:100], y_test[:100], batch_size=8)\n",
    "print(\"Accuracy: {accuracy}%\".format(accuracy=round(test_acc * 100, 2)))\n"
   ]
  }
 ],
 "metadata": {
  "colab": {
   "collapsed_sections": [],
   "name": "5.3.1-Automated-Pipeline-Search-Image-Model-Selection",
   "private_outputs": false,
   "provenance": [],
   "toc_visible": true
  },
  "kernelspec": {
   "display_name": "Python 3",
   "language": "python",
   "name": "python3"
  },
  "language_info": {
   "codemirror_mode": {
    "name": "ipython",
    "version": 3
   },
   "file_extension": ".py",
   "mimetype": "text/x-python",
   "name": "python",
   "nbconvert_exporter": "python",
   "pygments_lexer": "ipython3",
   "version": "3.7.0"
  }
 },
 "nbformat": 4,
 "nbformat_minor": 0
}