{
 "cells": [
  {
   "cell_type": "code",
   "execution_count": 0,
   "metadata": {
    "colab_type": "code"
   },
   "outputs": [],
   "source": [
    "!pip install -r https://raw.githubusercontent.com/datamllab/automl-in-action-notebooks/master/requirements.txt\n"
   ]
  },
  {
   "cell_type": "code",
   "execution_count": 0,
   "metadata": {
    "colab_type": "code"
   },
   "outputs": [],
   "source": [
    "import tensorflow as tf\n",
    "import autokeras as ak\n",
    "\n",
    "gpus = tf.config.experimental.list_physical_devices(\"GPU\")\n",
    "print(gpus)\n"
   ]
  },
  {
   "cell_type": "markdown",
   "metadata": {
    "colab_type": "text"
   },
   "source": [
    "### Load 20newsgroup dataset\n"
   ]
  },
  {
   "cell_type": "code",
   "execution_count": 0,
   "metadata": {
    "colab_type": "code"
   },
   "outputs": [],
   "source": [
    "import numpy as np\n",
    "from sklearn.datasets import fetch_20newsgroups\n",
    "\n",
    "categories = [\"rec.autos\", \"rec.motorcycles\"]\n",
    "\n",
    "news_train = fetch_20newsgroups(\n",
    "    subset=\"train\", shuffle=True, random_state=42, categories=categories\n",
    ")\n",
    "news_test = fetch_20newsgroups(\n",
    "    subset=\"test\", shuffle=True, random_state=42, categories=categories\n",
    ")\n",
    "\n",
    "doc_train, label_train = np.array(news_train.data), np.array(news_train.target)\n",
    "doc_test, label_test = np.array(news_test.data), np.array(news_test.target)\n",
    "\n",
    "print(\n",
    "    \"Unique labels {}. \\nNumber of unique labels: {}.\\n\\n\".format(\n",
    "        np.unique(label_train), len(np.unique(label_train))\n",
    "    )\n",
    ")\n",
    "\n",
    "print(\"The number of documents for training: {}.\".format(len(doc_train)))\n",
    "print(\"The number of documents for testing: {}.\".format(len(doc_test)))\n",
    "\n",
    "type(doc_train[0]), doc_train[0]\n"
   ]
  },
  {
   "cell_type": "markdown",
   "metadata": {
    "colab_type": "text"
   },
   "source": [
    "### Run the TextClassifier\n"
   ]
  },
  {
   "cell_type": "code",
   "execution_count": 0,
   "metadata": {
    "colab_type": "code"
   },
   "outputs": [],
   "source": [
    "# Initialize the text classifier.\n",
    "clf = ak.TextClassifier(\n",
    "    max_trials=2, overwrite=True\n",
    ")  # It tries 3 different models. overwrite the preious history\n",
    "\n",
    "# Feed the text classifier with training data.\n",
    "clf.fit(doc_train, label_train, verbose=2)\n",
    "\n",
    "test_loss, test_acc = clf.evaluate(doc_test, label_test, verbose=0)\n",
    "print(\"Test accuracy: \", test_acc)\n"
   ]
  }
 ],
 "metadata": {
  "colab": {
   "collapsed_sections": [],
   "name": "4.3.1-Task-API-TextClassifier-20newsgroup",
   "private_outputs": false,
   "provenance": [],
   "toc_visible": true
  },
  "kernelspec": {
   "display_name": "Python 3",
   "language": "python",
   "name": "python3"
  },
  "language_info": {
   "codemirror_mode": {
    "name": "ipython",
    "version": 3
   },
   "file_extension": ".py",
   "mimetype": "text/x-python",
   "name": "python",
   "nbconvert_exporter": "python",
   "pygments_lexer": "ipython3",
   "version": "3.7.0"
  }
 },
 "nbformat": 4,
 "nbformat_minor": 0
}