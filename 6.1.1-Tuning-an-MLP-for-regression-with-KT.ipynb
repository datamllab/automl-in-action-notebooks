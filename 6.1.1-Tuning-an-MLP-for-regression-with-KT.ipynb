{
 "cells": [
  {
   "cell_type": "code",
   "execution_count": 0,
   "metadata": {
    "colab_type": "code"
   },
   "outputs": [],
   "source": [
    "!pip install -r https://raw.githubusercontent.com/datamllab/automl-in-action-notebooks/master/requirements.txt\n"
   ]
  },
  {
   "cell_type": "code",
   "execution_count": 0,
   "metadata": {
    "colab_type": "code"
   },
   "outputs": [],
   "source": [
    "import tensorflow as tf\n",
    "from tensorflow import keras\n",
    "from tensorflow.keras import layers\n",
    "\n",
    "\n",
    "def build_model(hp):\n",
    "    input_node = keras.Input(shape=(20,))\n",
    "    units = hp.Int(\"units\", min_value=32, max_value=512, step=32)\n",
    "    output_node = layers.Dense(units=units, activation=\"relu\")(input_node)\n",
    "    output_node = layers.Dense(units=units, activation=\"relu\")(output_node)\n",
    "    output_node = layers.Dense(units=1, activation=\"sigmoid\")(output_node)\n",
    "    model = keras.Model(input_node, output_node)\n",
    "\n",
    "    optimizer = tf.keras.optimizers.Adam(learning_rate=1e-3)\n",
    "    model.compile(optimizer=optimizer, loss=\"mse\", metrics=[\"mae\"])\n",
    "    return model\n",
    "\n"
   ]
  },
  {
   "cell_type": "code",
   "execution_count": 0,
   "metadata": {
    "colab_type": "code"
   },
   "outputs": [],
   "source": [
    "from keras_tuner import RandomSearch\n",
    "\n",
    "tuner = RandomSearch(\n",
    "    build_model,\n",
    "    objective=\"val_mae\",\n",
    "    max_trials=5,\n",
    "    executions_per_trial=3,\n",
    "    directory=\"my_dir\",\n",
    "    project_name=\"helloworld\",\n",
    ")\n"
   ]
  },
  {
   "cell_type": "code",
   "execution_count": 0,
   "metadata": {
    "colab_type": "code"
   },
   "outputs": [],
   "source": [
    "tuner.search_space_summary()\n"
   ]
  },
  {
   "cell_type": "code",
   "execution_count": 0,
   "metadata": {
    "colab_type": "code"
   },
   "outputs": [],
   "source": [
    "import numpy as np\n",
    "\n",
    "x_train = np.random.rand(100, 20)\n",
    "y_train = np.random.rand(100, 1)\n",
    "x_val = np.random.rand(20, 20)\n",
    "y_val = np.random.rand(20, 1)\n",
    "\n",
    "tuner.search(x_train, y_train, epochs=1, validation_data=(x_val, y_val))\n"
   ]
  },
  {
   "cell_type": "code",
   "execution_count": 0,
   "metadata": {
    "colab_type": "code"
   },
   "outputs": [],
   "source": [
    "tuner.results_summary(5)\n"
   ]
  },
  {
   "cell_type": "code",
   "execution_count": 0,
   "metadata": {
    "colab_type": "code"
   },
   "outputs": [],
   "source": [
    "from tensorflow import keras\n",
    "\n",
    "best_models = tuner.get_best_models(num_models=2)\n",
    "best_model = best_models[0]\n",
    "best_model.save(\"path_to_best_model\")\n",
    "best_model = keras.models.load_model(\"path_to_best_model\")\n",
    "print(best_model.predict(x_val))\n",
    "best_model.summary()\n"
   ]
  },
  {
   "cell_type": "code",
   "execution_count": 0,
   "metadata": {
    "colab_type": "code"
   },
   "outputs": [],
   "source": [
    "\n",
    "def build_model(hp):\n",
    "    input_node = keras.Input(shape=(20,))\n",
    "    units = hp.Int(\"units\", min_value=32, max_value=512, step=32)\n",
    "    output_node = layers.Dense(units=units, activation=\"relu\")(input_node)\n",
    "    output_node = layers.Dense(units=units, activation=\"relu\")(output_node)\n",
    "    output_node = layers.Dense(units=1, activation=\"sigmoid\")(output_node)\n",
    "    model = keras.Model(input_node, output_node)\n",
    "    optimizer_name = hp.Choice(\"optimizer\", [\"adam\", \"adadelta\"])\n",
    "    learning_rate = hp.Float(\n",
    "        \"learning_rate\", min_value=1e-5, max_value=0.1, sampling=\"log\"\n",
    "    )\n",
    "    if optimizer_name == \"adam\":\n",
    "        optimizer = tf.keras.optimizers.Adam(learning_rate=learning_rate)\n",
    "    else:\n",
    "        optimizer = tf.keras.optimizers.Adadelta(learning_rate=learning_rate)\n",
    "    model.compile(optimizer=optimizer, loss=\"mse\", metrics=[\"mae\"])\n",
    "    return model\n",
    "\n",
    "\n",
    "tuner = RandomSearch(\n",
    "    build_model,\n",
    "    objective=\"val_mae\",\n",
    "    max_trials=5,\n",
    "    executions_per_trial=3,\n",
    "    directory=\"my_dir\",\n",
    "    project_name=\"helloworld\",\n",
    ")\n"
   ]
  },
  {
   "cell_type": "code",
   "execution_count": 0,
   "metadata": {
    "colab_type": "code"
   },
   "outputs": [],
   "source": [
    "import keras_tuner as kt\n",
    "\n",
    "\n",
    "class Regressor(kt.HyperModel):\n",
    "    def build(self, hp):\n",
    "        input_node = keras.Input(shape=(20,))\n",
    "        units = hp.Int(\"units\", min_value=32, max_value=512, step=32)\n",
    "        output_node = layers.Dense(units=units, activation=\"relu\")(input_node)\n",
    "        output_node = layers.Dense(units=units, activation=\"relu\")(output_node)\n",
    "        output_node = layers.Dense(units=1, activation=\"sigmoid\")(output_node)\n",
    "        model = keras.Model(input_node, output_node)\n",
    "        optimizer_name = hp.Choice(\"optimizer\", [\"adam\", \"adadelta\"])\n",
    "        learning_rate = hp.Float(\n",
    "            \"learning_rate\", min_value=1e-5, max_value=0.1, sampling=\"log\"\n",
    "        )\n",
    "        if optimizer_name == \"adam\":\n",
    "            optimizer = tf.keras.optimizers.Adam(learning_rate=learning_rate)\n",
    "        else:\n",
    "            optimizer = tf.keras.optimizers.Adadelta(learning_rate=learning_rate)\n",
    "        model.compile(optimizer=optimizer, loss=\"mse\", metrics=[\"mae\"])\n",
    "        return model\n",
    "\n",
    "    def fit(self, hp, model, **kwargs):\n",
    "        return model.fit(\n",
    "            batch_size=hp.Int(\"batch_size\"), shuffle=hp.Boolean(\"shuffle\"), **kwargs\n",
    "        )\n",
    "\n",
    "\n",
    "tuner = RandomSearch(\n",
    "    build_model,\n",
    "    objective=\"val_mae\",\n",
    "    max_trials=5,\n",
    "    executions_per_trial=3,\n",
    "    directory=\"my_dir\",\n",
    "    project_name=\"helloworld\",\n",
    ")\n"
   ]
  },
  {
   "cell_type": "code",
   "execution_count": 0,
   "metadata": {
    "colab_type": "code"
   },
   "outputs": [],
   "source": [
    "from tensorflow.keras.layers.experimental.preprocessing import Normalization\n",
    "\n",
    "layer = Normalization(input_shape=(20,))\n",
    "layer.adapt(x_train)\n",
    "\n",
    "model = tf.keras.Sequential([layer, tf.keras.layers.Dense(1)])\n",
    "model.compile(optimizer=\"adam\", loss=\"mse\")\n",
    "model.fit(x_train, y_train)\n"
   ]
  },
  {
   "cell_type": "code",
   "execution_count": 0,
   "metadata": {
    "colab_type": "code"
   },
   "outputs": [],
   "source": [
    "normalized_x_train = layer(x_train)\n",
    "dataset_x_train = tf.data.Dataset.from_tensor_slices(x_train).batch(32)\n",
    "normalized_dataset = dataset_x_train.map(layer)\n"
   ]
  },
  {
   "cell_type": "code",
   "execution_count": 0,
   "metadata": {
    "colab_type": "code"
   },
   "outputs": [],
   "source": [
    "from keras_tuner import HyperModel\n",
    "\n",
    "\n",
    "class Regressor(HyperModel):\n",
    "    def build(self, hp):\n",
    "        model = tf.keras.Sequential()\n",
    "        model.add(tf.keras.layers.Dense(1))\n",
    "        model.compile(optimizer=\"adam\", loss=\"mse\")\n",
    "        return model\n",
    "\n",
    "    def fit(self, hp, model, x, y, **kwargs):\n",
    "        if hp.Boolean(\"normalize\"):\n",
    "            layer = Normalization(input_shape=(20,))\n",
    "            layer.adapt(x)\n",
    "            x = layer(x)\n",
    "        return model.fit(x=x, y=y, **kwargs)\n",
    "\n"
   ]
  },
  {
   "cell_type": "code",
   "execution_count": 0,
   "metadata": {
    "colab_type": "code"
   },
   "outputs": [],
   "source": [
    "tuner = RandomSearch(Regressor(), objective=\"val_loss\", max_trials=2)\n",
    "tuner.search(x_train, y_train, validation_data=(x_val, y_val))\n"
   ]
  }
 ],
 "metadata": {
  "colab": {
   "collapsed_sections": [],
   "name": "6.1.1-Tuning-an-MLP-for-regression-with-KT",
   "private_outputs": false,
   "provenance": [],
   "toc_visible": true
  },
  "kernelspec": {
   "display_name": "Python 3",
   "language": "python",
   "name": "python3"
  },
  "language_info": {
   "codemirror_mode": {
    "name": "ipython",
    "version": 3
   },
   "file_extension": ".py",
   "mimetype": "text/x-python",
   "name": "python",
   "nbconvert_exporter": "python",
   "pygments_lexer": "ipython3",
   "version": "3.7.0"
  }
 },
 "nbformat": 4,
 "nbformat_minor": 0
}