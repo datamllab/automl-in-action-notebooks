{
 "cells": [
  {
   "cell_type": "code",
   "execution_count": 0,
   "metadata": {
    "colab_type": "code"
   },
   "outputs": [],
   "source": [
    "!pip install -r https://raw.githubusercontent.com/datamllab/automl-in-action-notebooks/master/requirements.txt\n"
   ]
  },
  {
   "cell_type": "markdown",
   "metadata": {
    "colab_type": "text"
   },
   "source": [
    "## Load data\n"
   ]
  },
  {
   "cell_type": "code",
   "execution_count": 0,
   "metadata": {
    "colab_type": "code"
   },
   "outputs": [],
   "source": [
    "# Import the dataset loading function from sklearn\n",
    "from sklearn.datasets import load_digits\n",
    "\n",
    "# Load the hand-written digits dataset\n",
    "digits = load_digits()\n",
    "\n",
    "# Get the images and corresponding labels\n",
    "images, labels = digits.images, digits.target\n",
    "images.shape, labels.shape\n",
    "\n",
    "import numpy as np\n",
    "\n",
    "np.max(images), np.max(labels), np.min(images), np.min(labels)\n"
   ]
  },
  {
   "cell_type": "markdown",
   "metadata": {
    "colab_type": "text"
   },
   "source": [
    "## Exploratory data analysis & Data preprocessing &  feature engineering\n"
   ]
  },
  {
   "cell_type": "code",
   "execution_count": 0,
   "metadata": {
    "colab_type": "code"
   },
   "outputs": [],
   "source": [
    "%matplotlib inline\n"
   ]
  },
  {
   "cell_type": "code",
   "execution_count": 0,
   "metadata": {
    "colab_type": "code"
   },
   "outputs": [],
   "source": [
    "import matplotlib\n",
    "import matplotlib.pyplot as plt\n",
    "\n",
    "# plot first 20 images\n",
    "n = 20\n",
    "_, axes = plt.subplots(2, 10, figsize=(10, 2))\n",
    "plt.tight_layout()\n",
    "for i in range(n):\n",
    "    row, col = i // 10, i % 10\n",
    "    axes[row, col].set_axis_off()\n",
    "    axes[row, col].imshow(\n",
    "        images[\n",
    "            i,\n",
    "        ],\n",
    "        cmap=plt.cm.gray_r,\n",
    "        interpolation=\"nearest\",\n",
    "    )\n",
    "    axes[row, col].set_title(\"Label: %i\" % labels[i])\n",
    "\n",
    "# reshape images to vectors\n",
    "n_samples = len(digits.images)\n",
    "X = digits.images.reshape((n_samples, -1))\n",
    "X.shape\n",
    "\n",
    "# Split data into train and test subsets\n",
    "from sklearn.model_selection import train_test_split\n",
    "\n",
    "X_train, X_test, y_train, y_test = train_test_split(\n",
    "    X, labels, test_size=0.2, shuffle=False\n",
    ")\n",
    "\n",
    "print(\"Shape of the training data: {}\".format(X_train.shape))\n",
    "print(\"Shape of the testing data: {}\".format(X_test.shape))\n",
    "\n",
    "X_train.shape, X_test.shape\n"
   ]
  },
  {
   "cell_type": "markdown",
   "metadata": {
    "colab_type": "text"
   },
   "source": [
    "### PCA\n"
   ]
  },
  {
   "cell_type": "code",
   "execution_count": 0,
   "metadata": {
    "colab_type": "code"
   },
   "outputs": [],
   "source": [
    "from sklearn.decomposition import PCA\n",
    "\n",
    "n_components = 10\n",
    "pca = PCA(n_components=n_components).fit(\n",
    "    X_train\n",
    ")  # , svd_solver='randomized',whiten=True\n",
    "X_train_pca = pca.transform(X_train)\n",
    "\n",
    "print(X_train.shape)\n",
    "print(X_train_pca.shape)\n",
    "\n",
    "X_train.shape, X_train_pca.shape\n",
    "\n",
    "plt.hist(pca.explained_variance_ratio_, bins=10, log=True)\n",
    "pca.explained_variance_ratio_.sum()\n",
    "\n",
    "plt.figure(figsize=(8, 6))\n",
    "plt.scatter(\n",
    "    X_train_pca[:, 0],\n",
    "    X_train_pca[:, 1],\n",
    "    c=y_train,\n",
    "    edgecolor=\"none\",\n",
    "    alpha=0.5,\n",
    "    cmap=plt.cm.get_cmap(\"Spectral\", 10),\n",
    ")\n",
    "plt.xlabel(\"Component 1\")\n",
    "plt.ylabel(\"Component 2\")\n",
    "plt.title(\"PCA 2D Embedding\")\n",
    "plt.colorbar()\n"
   ]
  },
  {
   "cell_type": "markdown",
   "metadata": {
    "colab_type": "text"
   },
   "source": [
    "### TSNE\n"
   ]
  },
  {
   "cell_type": "code",
   "execution_count": 0,
   "metadata": {
    "colab_type": "code"
   },
   "outputs": [],
   "source": [
    "from sklearn.manifold import TSNE\n",
    "\n",
    "tsne = TSNE(n_components=2, random_state=42)\n",
    "\n",
    "X_train_tsne = tsne.fit_transform(X_train)\n",
    "\n",
    "plt.figure(figsize=(8, 6))\n",
    "plt.scatter(\n",
    "    X_train_tsne[:, 0],\n",
    "    X_train_tsne[:, 1],\n",
    "    c=y_train,\n",
    "    edgecolor=\"none\",\n",
    "    alpha=0.5,\n",
    "    cmap=plt.cm.get_cmap(\"Spectral\", 10),\n",
    ")\n",
    "plt.xlabel(\"Dimension 1\")\n",
    "plt.ylabel(\"Dimension 2\")\n",
    "plt.title(\"t-SNE 2D Embedding\")\n",
    "plt.colorbar()\n"
   ]
  },
  {
   "cell_type": "markdown",
   "metadata": {
    "colab_type": "text"
   },
   "source": [
    "## Build up SVM classifier\n"
   ]
  },
  {
   "cell_type": "markdown",
   "metadata": {
    "colab_type": "text"
   },
   "source": [
    "### Training\n"
   ]
  },
  {
   "cell_type": "code",
   "execution_count": 0,
   "metadata": {
    "colab_type": "code"
   },
   "outputs": [],
   "source": [
    "# Import library for support vector machine classifier\n",
    "from sklearn.svm import SVC\n",
    "\n",
    "# Create a support vector classifier\n",
    "clf = SVC(C=1, kernel=\"linear\", random_state=42)\n",
    "\n",
    "# Train the model using the training sets\n",
    "clf.fit(X_train, y_train)\n",
    "\n"
   ]
  },
  {
   "cell_type": "markdown",
   "metadata": {
    "colab_type": "text"
   },
   "source": [
    "### Testing\n"
   ]
  },
  {
   "cell_type": "code",
   "execution_count": 0,
   "metadata": {
    "colab_type": "code"
   },
   "outputs": [],
   "source": [
    "from sklearn.metrics import accuracy_score\n",
    "\n",
    "# Now predict the value of the digit on the test set:\n",
    "y_pred_test = clf.predict(X_test)\n",
    "\n",
    "\n",
    "# Display the testing results\n",
    "acc = accuracy_score(y_test, y_pred_test)\n",
    "print(\"The prediction accuracy: {:.2f} %\".format(acc * 100))\n",
    "\n",
    "from sklearn.metrics import plot_confusion_matrix\n",
    "\n",
    "disp = plot_confusion_matrix(clf, X_test, y_test)\n",
    "disp.figure_.suptitle(\"Confusion Matrix (linear SVC)\")\n",
    "\n",
    "plt.show()\n"
   ]
  },
  {
   "cell_type": "markdown",
   "metadata": {
    "colab_type": "text"
   },
   "source": [
    "### PCA (10 components) + SVC\n"
   ]
  },
  {
   "cell_type": "markdown",
   "metadata": {
    "colab_type": "text"
   },
   "source": [
    "### Build a pipeline\n"
   ]
  },
  {
   "cell_type": "code",
   "execution_count": 0,
   "metadata": {
    "colab_type": "code"
   },
   "outputs": [],
   "source": [
    "from sklearn.pipeline import Pipeline\n",
    "\n",
    "image_clf = Pipeline(\n",
    "    [\n",
    "        (\"pca\", PCA(n_components=10)),\n",
    "        (\"clf\", SVC(C=1, kernel=\"linear\", random_state=42)),\n",
    "    ]\n",
    ")\n",
    "\n",
    "image_clf.fit(X_train, y_train)\n",
    "\n",
    "# Test\n",
    "y_pred_test = image_clf.predict(X_test)\n",
    "\n",
    "# Display the testing results\n",
    "acc = accuracy_score(y_test, y_pred_test)\n",
    "print(\"The prediction accuracy: {:.2f} %\".format(acc * 100))\n"
   ]
  },
  {
   "cell_type": "markdown",
   "metadata": {
    "colab_type": "text"
   },
   "source": [
    "## Fine-Tuning: jointly tune the PCA components and SVC\n"
   ]
  },
  {
   "cell_type": "code",
   "execution_count": 0,
   "metadata": {
    "colab_type": "code"
   },
   "outputs": [],
   "source": [
    "# Hp tuning with Sklearn\n",
    "\n",
    "from sklearn.model_selection import GridSearchCV\n",
    "from sklearn.metrics import make_scorer\n",
    "\n",
    "\n",
    "# Create a dictionary for all the hyperparameters\n",
    "hps = {\n",
    "    \"pca__n_components\": [2, 5, 10, 20],\n",
    "    \"clf__C\": [0.05, 0.1, 0.2, 0.5, 1, 2, 3, 4, 5, 6, 7, 8, 9, 10, 15],\n",
    "    \"clf__kernel\": [\"linear\", \"rbf\"],\n",
    "}\n",
    "\n",
    "# Construct a scoring function for performance estimation.\n",
    "scoring_fnc = make_scorer(accuracy_score)\n",
    "\n",
    "# Create the grid search cv object (5-fold cross-validation)\n",
    "grid_search = GridSearchCV(\n",
    "    estimator=image_clf, param_grid=hps, scoring=scoring_fnc, cv=3, verbose=5, n_jobs=-1\n",
    ")\n",
    "\n",
    "# Fit the grid search object to the training data to search the optimal model\n",
    "grid_search = grid_search.fit(X_train, y_train)\n",
    "\n",
    "cvres = grid_search.cv_results_\n",
    "for mean_score, params in zip(cvres[\"mean_test_score\"], cvres[\"params\"]):\n",
    "    print(mean_score, params)\n"
   ]
  },
  {
   "cell_type": "markdown",
   "metadata": {
    "colab_type": "text"
   },
   "source": [
    "## Retrive the best model\n"
   ]
  },
  {
   "cell_type": "code",
   "execution_count": 0,
   "metadata": {
    "colab_type": "code"
   },
   "outputs": [],
   "source": [
    "grid_search.best_params_\n",
    "best_pipeline = grid_search.best_estimator_\n",
    "\n",
    "# Produce the value for 'max_depth'\n",
    "print(\"The best combination of hyperparameters are:\")\n",
    "\n",
    "for hp_name in sorted(hps.keys()):\n",
    "    print(\"%s: %r\" % (hp_name, grid_search.best_params_[hp_name]))\n",
    "\n",
    "# Model prediction on training & test data\n",
    "y_pred_train = best_pipeline.predict(X_train)\n",
    "y_pred_test = best_pipeline.predict(X_test)\n",
    "\n",
    "# Display the testing results\n",
    "train_acc = accuracy_score(y_train, y_pred_train)\n",
    "test_acc = accuracy_score(y_test, y_pred_test)\n",
    "print(\"The prediction accuracy on training set: {:.2f} %\".format(train_acc * 100))\n",
    "print(\"The prediction accuracy on test set: {:.2f} %\".format(test_acc * 100))\n",
    "\n",
    "disp = plot_confusion_matrix(best_pipeline, X_test, y_test)\n",
    "disp.figure_.suptitle(\"Confusion Matrix (PCA + RBF SVC)\")\n",
    "\n",
    "plt.show()\n"
   ]
  }
 ],
 "metadata": {
  "colab": {
   "collapsed_sections": [],
   "name": "Appendix-B.1-Image-Hand-Written-Digits-Recognition",
   "private_outputs": false,
   "provenance": [],
   "toc_visible": true
  },
  "kernelspec": {
   "display_name": "Python 3",
   "language": "python",
   "name": "python3"
  },
  "language_info": {
   "codemirror_mode": {
    "name": "ipython",
    "version": 3
   },
   "file_extension": ".py",
   "mimetype": "text/x-python",
   "name": "python",
   "nbconvert_exporter": "python",
   "pygments_lexer": "ipython3",
   "version": "3.7.0"
  }
 },
 "nbformat": 4,
 "nbformat_minor": 0
}