{
  "nbformat": 4,
  "nbformat_minor": 0,
  "metadata": {
    "colab": {
      "name": "kt_oracle.ipynb",
      "provenance": [],
      "collapsed_sections": []
    },
    "kernelspec": {
      "name": "python3",
      "display_name": "Python 3"
    }
  },
  "cells": [
    {
      "cell_type": "code",
      "metadata": {
        "colab": {
          "base_uri": "https://localhost:8080/"
        },
        "id": "SnGM5WEfz13O",
        "outputId": "3ef3966d-b5c4-49c6-f981-c3259f5f7434"
      },
      "source": [
        "!pip install git+https://github.com/keras-team/keras-tuner.git -q\n",
        "!pip install autokeras -q"
      ],
      "execution_count": 19,
      "outputs": [
        {
          "output_type": "stream",
          "text": [
            "  Building wheel for keras-tuner (setup.py) ... \u001b[?25l\u001b[?25hdone\n"
          ],
          "name": "stdout"
        }
      ]
    },
    {
      "cell_type": "code",
      "metadata": {
        "id": "ygu2K-0l0JDC"
      },
      "source": [
        "from kerastuner.engine.oracle import Oracle\n",
        "from kerastuner.engine import trial as trial_lib\n",
        "import numpy as np\n",
        "import tensorflow as tf\n",
        "import autokeras as ak\n",
        "\n",
        "SEED = 42\n",
        "np.random.seed=SEED\n",
        "tf.random.set_seed(SEED)\n",
        "\n",
        "class RandomSearchOracle(Oracle):\n",
        "\n",
        "    def __init__(self, *args, **kwargs):\n",
        "        super().__init__(*args, **kwargs)\n",
        "        # Add any new attributes.\n",
        "\n",
        "    def _populate_space(self, trial_id):\n",
        "        \"\"\"Fill the hyperparameter space with values for a trial.\n",
        "        This method should be overridden in subclasses and called in\n",
        "        `create_trial` in order to populate the hyperparameter space with\n",
        "        values.\n",
        "        Args:\n",
        "          `trial_id`: The id for this Trial.\n",
        "        Returns:\n",
        "            A dictionary with keys \"values\" and \"status\", where \"values\" is\n",
        "            a mapping of parameter names to suggested values, and \"status\"\n",
        "            is the TrialStatus that should be returned for this trial (one\n",
        "            of \"RUNNING\", \"IDLE\", or \"STOPPED\").\n",
        "        \"\"\"\n",
        "        values = self._random_values()\n",
        "        if values is None:\n",
        "            return {'status': trial_lib.TrialStatus.STOPPED,\n",
        "                    'values': None}\n",
        "        return {'status': trial_lib.TrialStatus.RUNNING,\n",
        "                'values': values}\n",
        "\n",
        "    def update_trial(self, trial_id, metrics, step=0):\n",
        "        \"\"\"Used by a worker to report the status of a trial.\n",
        "        Args:\n",
        "            trial_id: A previously seen trial id.\n",
        "            metrics: Dict of float. The current value of this\n",
        "                trial's metrics.\n",
        "            step: (Optional) Float. Used to report intermediate results. The\n",
        "                current value in a timeseries representing the state of the\n",
        "                trial. This is the value that `metrics` will be associated with.\n",
        "        Returns:\n",
        "            Trial object. Trial.status will be set to \"STOPPED\" if the Trial\n",
        "            should be stopped early.\n",
        "        \"\"\"\n",
        "        super().update_trial(trial_id, metrics, step)"
      ],
      "execution_count": 20,
      "outputs": []
    },
    {
      "cell_type": "code",
      "metadata": {
        "id": "nERw2Nc21Rpk"
      },
      "source": [
        "from kerastuner.engine.multi_execution_tuner import MultiExecutionTuner\n",
        "\n",
        "class RandomSearch(MultiExecutionTuner):\n",
        "\n",
        "    def __init__(self,\n",
        "                 hypermodel,\n",
        "                 objective,\n",
        "                 max_trials,\n",
        "                 seed=None,\n",
        "                 hyperparameters=None,\n",
        "                 tune_new_entries=True,\n",
        "                 allow_new_entries=True,\n",
        "                 **kwargs):\n",
        "        self.seed = seed\n",
        "        oracle = RandomSearchOracle(\n",
        "            objective=objective,\n",
        "            max_trials=max_trials,\n",
        "            seed=seed,\n",
        "            hyperparameters=hyperparameters,\n",
        "            tune_new_entries=tune_new_entries,\n",
        "            allow_new_entries=allow_new_entries)\n",
        "        super(RandomSearch, self).__init__(\n",
        "            oracle,\n",
        "            hypermodel,\n",
        "            **kwargs)"
      ],
      "execution_count": 21,
      "outputs": []
    },
    {
      "cell_type": "code",
      "metadata": {
        "colab": {
          "base_uri": "https://localhost:8080/",
          "height": 204
        },
        "id": "e36mvR3j57Rb",
        "outputId": "2aed0270-8793-45c5-d64f-0ddfb7c9330a"
      },
      "source": [
        "import pandas as pd\n",
        "import tensorflow as tf\n",
        "\n",
        "TRAIN_DATA_URL = \"https://storage.googleapis.com/tf-datasets/titanic/train.csv\"\n",
        "TEST_DATA_URL = \"https://storage.googleapis.com/tf-datasets/titanic/eval.csv\"\n",
        "\n",
        "train_file_path = tf.keras.utils.get_file(\"train.csv\", TRAIN_DATA_URL)\n",
        "test_file_path = tf.keras.utils.get_file(\"eval.csv\", TEST_DATA_URL)\n",
        "\n",
        "full_train_dataframe = pd.read_csv(train_file_path)\n",
        "test_dataframe = pd.read_csv(test_file_path)\n",
        "\n",
        "full_train_dataframe.head()"
      ],
      "execution_count": 22,
      "outputs": [
        {
          "output_type": "execute_result",
          "data": {
            "text/html": [
              "<div>\n",
              "<style scoped>\n",
              "    .dataframe tbody tr th:only-of-type {\n",
              "        vertical-align: middle;\n",
              "    }\n",
              "\n",
              "    .dataframe tbody tr th {\n",
              "        vertical-align: top;\n",
              "    }\n",
              "\n",
              "    .dataframe thead th {\n",
              "        text-align: right;\n",
              "    }\n",
              "</style>\n",
              "<table border=\"1\" class=\"dataframe\">\n",
              "  <thead>\n",
              "    <tr style=\"text-align: right;\">\n",
              "      <th></th>\n",
              "      <th>survived</th>\n",
              "      <th>sex</th>\n",
              "      <th>age</th>\n",
              "      <th>n_siblings_spouses</th>\n",
              "      <th>parch</th>\n",
              "      <th>fare</th>\n",
              "      <th>class</th>\n",
              "      <th>deck</th>\n",
              "      <th>embark_town</th>\n",
              "      <th>alone</th>\n",
              "    </tr>\n",
              "  </thead>\n",
              "  <tbody>\n",
              "    <tr>\n",
              "      <th>0</th>\n",
              "      <td>0</td>\n",
              "      <td>male</td>\n",
              "      <td>22.0</td>\n",
              "      <td>1</td>\n",
              "      <td>0</td>\n",
              "      <td>7.2500</td>\n",
              "      <td>Third</td>\n",
              "      <td>unknown</td>\n",
              "      <td>Southampton</td>\n",
              "      <td>n</td>\n",
              "    </tr>\n",
              "    <tr>\n",
              "      <th>1</th>\n",
              "      <td>1</td>\n",
              "      <td>female</td>\n",
              "      <td>38.0</td>\n",
              "      <td>1</td>\n",
              "      <td>0</td>\n",
              "      <td>71.2833</td>\n",
              "      <td>First</td>\n",
              "      <td>C</td>\n",
              "      <td>Cherbourg</td>\n",
              "      <td>n</td>\n",
              "    </tr>\n",
              "    <tr>\n",
              "      <th>2</th>\n",
              "      <td>1</td>\n",
              "      <td>female</td>\n",
              "      <td>26.0</td>\n",
              "      <td>0</td>\n",
              "      <td>0</td>\n",
              "      <td>7.9250</td>\n",
              "      <td>Third</td>\n",
              "      <td>unknown</td>\n",
              "      <td>Southampton</td>\n",
              "      <td>y</td>\n",
              "    </tr>\n",
              "    <tr>\n",
              "      <th>3</th>\n",
              "      <td>1</td>\n",
              "      <td>female</td>\n",
              "      <td>35.0</td>\n",
              "      <td>1</td>\n",
              "      <td>0</td>\n",
              "      <td>53.1000</td>\n",
              "      <td>First</td>\n",
              "      <td>C</td>\n",
              "      <td>Southampton</td>\n",
              "      <td>n</td>\n",
              "    </tr>\n",
              "    <tr>\n",
              "      <th>4</th>\n",
              "      <td>0</td>\n",
              "      <td>male</td>\n",
              "      <td>28.0</td>\n",
              "      <td>0</td>\n",
              "      <td>0</td>\n",
              "      <td>8.4583</td>\n",
              "      <td>Third</td>\n",
              "      <td>unknown</td>\n",
              "      <td>Queenstown</td>\n",
              "      <td>y</td>\n",
              "    </tr>\n",
              "  </tbody>\n",
              "</table>\n",
              "</div>"
            ],
            "text/plain": [
              "   survived     sex   age  ...     deck  embark_town  alone\n",
              "0         0    male  22.0  ...  unknown  Southampton      n\n",
              "1         1  female  38.0  ...        C    Cherbourg      n\n",
              "2         1  female  26.0  ...  unknown  Southampton      y\n",
              "3         1  female  35.0  ...        C  Southampton      n\n",
              "4         0    male  28.0  ...  unknown   Queenstown      y\n",
              "\n",
              "[5 rows x 10 columns]"
            ]
          },
          "metadata": {
            "tags": []
          },
          "execution_count": 22
        }
      ]
    },
    {
      "cell_type": "code",
      "metadata": {
        "colab": {
          "base_uri": "https://localhost:8080/"
        },
        "id": "rx3tP30gAO55",
        "outputId": "764b4de9-5b20-492f-fb7a-e668609ce5c5"
      },
      "source": [
        "# Create training and validation datasets\n",
        "val_dataframe = full_train_dataframe.sample(frac=0.2, random_state=1337)\n",
        "train_dataframe = full_train_dataframe.drop(val_dataframe.index)\n",
        "\n",
        "train_dataframe.to_numpy().astype(np.str)"
      ],
      "execution_count": 23,
      "outputs": [
        {
          "output_type": "execute_result",
          "data": {
            "text/plain": [
              "array([['0', 'male', '22.0', ..., 'unknown', 'Southampton', 'n'],\n",
              "       ['1', 'female', '38.0', ..., 'C', 'Cherbourg', 'n'],\n",
              "       ['1', 'female', '26.0', ..., 'unknown', 'Southampton', 'y'],\n",
              "       ...,\n",
              "       ['0', 'male', '25.0', ..., 'unknown', 'Southampton', 'y'],\n",
              "       ['1', 'female', '19.0', ..., 'B', 'Southampton', 'y'],\n",
              "       ['0', 'female', '28.0', ..., 'unknown', 'Southampton', 'n']],\n",
              "      dtype='<U11')"
            ]
          },
          "metadata": {
            "tags": []
          },
          "execution_count": 23
        }
      ]
    },
    {
      "cell_type": "code",
      "metadata": {
        "id": "1oabryiPA9ZJ",
        "colab": {
          "base_uri": "https://localhost:8080/"
        },
        "outputId": "018f2134-63a7-4910-b747-ac03b440ac92"
      },
      "source": [
        "def dataframe_to_dataset(dataframe, train=True):\n",
        "    dataframe = dataframe.copy()\n",
        "\n",
        "    # Drop useless features\n",
        "    dataframe.pop(\"embark_town\")\n",
        "    dataframe.pop(\"deck\")\n",
        "    \n",
        "    if train:\n",
        "        # Set aside labels\n",
        "        labels = dataframe.pop(\"survived\")\n",
        "        # Create dataset\n",
        "        ds = tf.data.Dataset.from_tensor_slices((dataframe.to_numpy().astype(np.str), labels))\n",
        "        ds = ds.shuffle(buffer_size=len(dataframe))\n",
        "    else:\n",
        "        ds = tf.data.Dataset.from_tensor_slices(dataframe.to_numpy().astype(np.str))\n",
        "    return ds\n",
        "\n",
        "train_ds = dataframe_to_dataset(train_dataframe).batch(32).prefetch(32)\n",
        "val_ds = dataframe_to_dataset(val_dataframe).batch(32).prefetch(32)\n",
        "test_ds = dataframe_to_dataset(test_dataframe, train=False).batch(32).prefetch(32)\n",
        "full_train_ds = dataframe_to_dataset(full_train_dataframe).batch(32).prefetch(32)\n",
        "\n",
        "for data in train_ds:\n",
        "    print(data)\n",
        "    break"
      ],
      "execution_count": 24,
      "outputs": [
        {
          "output_type": "stream",
          "text": [
            "(<tf.Tensor: shape=(32, 7), dtype=string, numpy=\n",
            "array([[b'female', b'26.0', b'1', b'1', b'26.0', b'Second', b'n'],\n",
            "       [b'male', b'23.0', b'0', b'0', b'13.0', b'Second', b'y'],\n",
            "       [b'male', b'18.0', b'1', b'1', b'20.2125', b'Third', b'n'],\n",
            "       [b'female', b'0.75', b'2', b'1', b'19.2583', b'Third', b'n'],\n",
            "       [b'male', b'50.0', b'1', b'0', b'55.9', b'First', b'n'],\n",
            "       [b'female', b'22.0', b'0', b'1', b'55.0', b'First', b'n'],\n",
            "       [b'female', b'23.0', b'0', b'0', b'7.925', b'Third', b'y'],\n",
            "       [b'male', b'28.0', b'0', b'0', b'13.8625', b'Second', b'y'],\n",
            "       [b'male', b'28.0', b'0', b'0', b'0.0', b'First', b'y'],\n",
            "       [b'male', b'18.0', b'1', b'0', b'6.4958', b'Third', b'n'],\n",
            "       [b'male', b'36.0', b'1', b'1', b'24.15', b'Third', b'n'],\n",
            "       [b'male', b'25.0', b'1', b'0', b'17.8', b'Third', b'n'],\n",
            "       [b'female', b'23.0', b'0', b'0', b'7.55', b'Third', b'y'],\n",
            "       [b'male', b'52.0', b'0', b'0', b'30.5', b'First', b'y'],\n",
            "       [b'male', b'25.0', b'0', b'0', b'13.0', b'Second', b'y'],\n",
            "       [b'male', b'55.5', b'0', b'0', b'8.05', b'Third', b'y'],\n",
            "       [b'male', b'37.0', b'2', b'0', b'7.925', b'Third', b'n'],\n",
            "       [b'male', b'29.0', b'0', b'0', b'30.0', b'First', b'y'],\n",
            "       [b'male', b'43.0', b'1', b'1', b'26.25', b'Second', b'n'],\n",
            "       [b'female', b'21.0', b'0', b'0', b'10.5', b'Second', b'y'],\n",
            "       [b'female', b'5.0', b'2', b'1', b'19.2583', b'Third', b'n'],\n",
            "       [b'female', b'63.0', b'0', b'0', b'9.5875', b'Third', b'y'],\n",
            "       [b'male', b'49.0', b'1', b'1', b'110.8833', b'First', b'n'],\n",
            "       [b'male', b'30.0', b'0', b'0', b'7.8958', b'Third', b'y'],\n",
            "       [b'male', b'28.0', b'1', b'0', b'15.5', b'Third', b'n'],\n",
            "       [b'male', b'47.0', b'0', b'0', b'25.5875', b'First', b'y'],\n",
            "       [b'male', b'50.0', b'1', b'0', b'106.425', b'First', b'n'],\n",
            "       [b'male', b'28.0', b'0', b'0', b'7.75', b'Third', b'y'],\n",
            "       [b'male', b'15.0', b'1', b'1', b'7.2292', b'Third', b'n'],\n",
            "       [b'male', b'28.0', b'0', b'0', b'7.75', b'Third', b'y'],\n",
            "       [b'female', b'28.0', b'1', b'0', b'82.1708', b'First', b'n'],\n",
            "       [b'female', b'24.0', b'0', b'0', b'13.0', b'Second', b'y']],\n",
            "      dtype=object)>, <tf.Tensor: shape=(32,), dtype=int64, numpy=\n",
            "array([0, 0, 0, 1, 0, 1, 0, 1, 0, 0, 0, 0, 1, 1, 0, 0, 0, 0, 0, 1, 1, 1,\n",
            "       0, 0, 0, 0, 0, 0, 0, 0, 1, 0])>)\n"
          ],
          "name": "stdout"
        }
      ]
    },
    {
      "cell_type": "code",
      "metadata": {
        "id": "n70Qea3TehhD"
      },
      "source": [
        "def build_model(hp):\n",
        "    model = tf.keras.Sequential()\n",
        "    encoding_layer = ak.MultiCategoryEncoding(encoding=['int', 'none', 'int', 'int', 'none', 'int', 'int'])\n",
        "    encoding_layer.adapt(train_ds.map(lambda x, y: x))\n",
        "    model.add(encoding_layer)\n",
        "    model.add(tf.keras.layers.Dense(units=hp.Int('units',\n",
        "                                        min_value=32,\n",
        "                                        max_value=512,\n",
        "                                        step=32),\n",
        "                           activation='relu',\n",
        "                           input_shape=(10,)))\n",
        "    model.add(tf.keras.layers.Dense(10, activation='softmax'))\n",
        "    model.compile(\n",
        "        optimizer=tf.keras.optimizers.Adam(\n",
        "            hp.Choice('learning_rate',\n",
        "                      values=[1e-2, 1e-3, 1e-4])),\n",
        "        loss='sparse_categorical_crossentropy',\n",
        "        metrics=['accuracy'])\n",
        "    return model"
      ],
      "execution_count": 25,
      "outputs": []
    },
    {
      "cell_type": "code",
      "metadata": {
        "id": "QuU8ArYIe7eQ"
      },
      "source": [
        "random_tuner = RandomSearch(\n",
        "    build_model,\n",
        "    overwrite=True,\n",
        "    seed=SEED,\n",
        "    objective='val_accuracy',\n",
        "    max_trials=10,\n",
        "    executions_per_trial=3,\n",
        "    directory='my_dir',\n",
        "    project_name='helloworld')"
      ],
      "execution_count": 26,
      "outputs": []
    },
    {
      "cell_type": "code",
      "metadata": {
        "colab": {
          "base_uri": "https://localhost:8080/"
        },
        "id": "G6-b8L5SfFIe",
        "outputId": "e0703c2b-f546-483a-e6d2-216a0f96e3aa"
      },
      "source": [
        "random_tuner.search(train_ds, validation_data=val_ds, epochs=100)"
      ],
      "execution_count": 27,
      "outputs": [
        {
          "output_type": "stream",
          "text": [
            "Trial 10 Complete [00h 00m 31s]\n",
            "val_accuracy: 0.8479999899864197\n",
            "\n",
            "Best val_accuracy So Far: 0.8559999863306681\n",
            "Total elapsed time: 00h 05m 01s\n",
            "INFO:tensorflow:Oracle triggered exit\n"
          ],
          "name": "stdout"
        }
      ]
    },
    {
      "cell_type": "code",
      "metadata": {
        "id": "xY6qHz3fzHEj"
      },
      "source": [
        "import matplotlib.pyplot as plt \n",
        "\n",
        "def plot_curve(x, y, xlabel, ylabel, title):\n",
        "    plt.plot(x, y)\n",
        "    plt.xlabel(xlabel)\n",
        "    plt.ylabel(ylabel) \n",
        "    plt.title(title)\n",
        "    plt.show()"
      ],
      "execution_count": 28,
      "outputs": []
    },
    {
      "cell_type": "code",
      "metadata": {
        "colab": {
          "base_uri": "https://localhost:8080/",
          "height": 295
        },
        "id": "CdoxzB4xv8dz",
        "outputId": "8d26a912-9001-4e03-dfc5-b7e856dd61f1"
      },
      "source": [
        "accuracy = [random_tuner.oracle.get_trial(trial_id).score for trial_id in random_tuner.oracle.end_order]\n",
        "trial = list(range(len(accuracy)))\n",
        "plot_curve(trial, accuracy, 'Trials in finish order', 'Validation Accuracy', 'Searched Results')"
      ],
      "execution_count": 29,
      "outputs": [
        {
          "output_type": "display_data",
          "data": {
            "image/png": "[encoded data removed]",
            "text/plain": [
              "<Figure size 432x288 with 1 Axes>"
            ]
          },
          "metadata": {
            "tags": [],
            "needs_background": "light"
          }
        }
      ]
    },
    {
      "cell_type": "code",
      "metadata": {
        "colab": {
          "base_uri": "https://localhost:8080/",
          "height": 295
        },
        "id": "GYFQVCl3wRTb",
        "outputId": "f61b150d-4463-4c3c-cd86-3c78c569dd50"
      },
      "source": [
        "high_value = 0\n",
        "high_acc = []\n",
        "for value in accuracy:\n",
        "  high_value = max(high_value, value)\n",
        "  high_acc.append(high_value)\n",
        "plot_curve(trial, high_acc, 'Trials in finish order', 'Highest Validation Accuracy So Far', 'Searched Results')"
      ],
      "execution_count": 30,
      "outputs": [
        {
          "output_type": "display_data",
          "data": {
            "image/png": "[encoded data removed]",
            "text/plain": [
              "<Figure size 432x288 with 1 Axes>"
            ]
          },
          "metadata": {
            "tags": [],
            "needs_background": "light"
          }
        }
      ]
    },
    {
      "cell_type": "code",
      "metadata": {
        "id": "6jD3OG2524HW"
      },
      "source": [
        "import random\n",
        "\n",
        "import numpy as np\n",
        "from scipy import optimize as scipy_optimize\n",
        "from sklearn import exceptions\n",
        "from sklearn import gaussian_process\n",
        "\n",
        "from kerastuner.engine import hyperparameters as hp_module\n",
        "from kerastuner.engine import multi_execution_tuner\n",
        "from kerastuner.engine import oracle as oracle_module\n",
        "from kerastuner.engine import trial as trial_lib\n",
        "\n",
        "\n",
        "class BayesianOptimizationOracle(oracle_module.Oracle):\n",
        "    \"\"\"Bayesian optimization oracle.\n",
        "\n",
        "    It uses Bayesian optimization with a underlying Gaussian process model.\n",
        "    The acquisition function used is upper confidence bound (UCB), which can\n",
        "    be found in the following link:\n",
        "    https://www.cse.wustl.edu/~garnett/cse515t/spring_2015/files/lecture_notes/12.pdf\n",
        "\n",
        "    # Arguments\n",
        "        objective: String or `kerastuner.Objective`. If a string,\n",
        "          the direction of the optimization (min or max) will be\n",
        "          inferred.\n",
        "        max_trials: Int. Total number of trials\n",
        "            (model configurations) to test at most.\n",
        "            Note that the oracle may interrupt the search\n",
        "            before `max_trial` models have been tested if the search space has been\n",
        "            exhausted.\n",
        "        num_initial_points: (Optional) Int. The number of randomly generated samples\n",
        "            as initial training data for Bayesian optimization. If not specified,\n",
        "            a value of 3 times the dimensionality of the hyperparameter space is\n",
        "            used.\n",
        "        alpha: Float. Value added to the diagonal of the kernel matrix\n",
        "            during fitting. It represents the expected amount of noise\n",
        "            in the observed performances in Bayesian optimization.\n",
        "        beta: Float. The balancing factor of exploration and exploitation.\n",
        "            The larger it is, the more explorative it is.\n",
        "        seed: Int. Random seed.\n",
        "        hyperparameters: HyperParameters class instance.\n",
        "            Can be used to override (or register in advance)\n",
        "            hyperparamters in the search space.\n",
        "        tune_new_entries: Whether hyperparameter entries\n",
        "            that are requested by the hypermodel\n",
        "            but that were not specified in `hyperparameters`\n",
        "            should be added to the search space, or not.\n",
        "            If not, then the default value for these parameters\n",
        "            will be used.\n",
        "        allow_new_entries: Whether the hypermodel is allowed\n",
        "            to request hyperparameter entries not listed in\n",
        "            `hyperparameters`.\n",
        "    \"\"\"\n",
        "\n",
        "    def __init__(self,\n",
        "                 objective,\n",
        "                 max_trials,\n",
        "                 num_initial_points=None,\n",
        "                 alpha=1e-4,\n",
        "                 beta=2.6,\n",
        "                 seed=None,\n",
        "                 hyperparameters=None,\n",
        "                 allow_new_entries=True,\n",
        "                 tune_new_entries=True):\n",
        "        super(BayesianOptimizationOracle, self).__init__(\n",
        "            objective=objective,\n",
        "            max_trials=max_trials,\n",
        "            hyperparameters=hyperparameters,\n",
        "            tune_new_entries=tune_new_entries,\n",
        "            allow_new_entries=allow_new_entries,\n",
        "            seed=seed)\n",
        "        self.num_initial_points = num_initial_points\n",
        "        self.alpha = alpha\n",
        "        self.beta = beta\n",
        "        self.seed = seed or random.randint(1, 1e4)\n",
        "        self._seed_state = self.seed\n",
        "        self._tried_so_far = set()\n",
        "        self._max_collisions = 20\n",
        "        self._random_state = np.random.RandomState(self.seed)\n",
        "        self.gpr = self._make_gpr()\n",
        "\n",
        "    def _make_gpr(self):\n",
        "        return gaussian_process.GaussianProcessRegressor(\n",
        "            kernel=gaussian_process.kernels.Matern(nu=2.5),\n",
        "            n_restarts_optimizer=20,\n",
        "            normalize_y=True,\n",
        "            alpha=self.alpha,\n",
        "            random_state=self.seed)\n",
        "\n",
        "    def _populate_space(self, trial_id):\n",
        "        # Generate enough samples before training Gaussian process.\n",
        "        completed_trials = [t for t in self.trials.values()\n",
        "                            if t.status == 'COMPLETED']\n",
        "\n",
        "        # Use 3 times the dimensionality of the space as the default number of\n",
        "        # random points.\n",
        "        dimensions = len(self.hyperparameters.space)\n",
        "        num_initial_points = self.num_initial_points or 3 * dimensions\n",
        "        if len(completed_trials) < num_initial_points:\n",
        "            return self._random_populate_space()\n",
        "\n",
        "        # Fit a GPR to the completed trials and return the predicted optimum values.\n",
        "        x, y = self._vectorize_trials()\n",
        "        try:\n",
        "            self.gpr.fit(x, y)\n",
        "        except exceptions.ConvergenceWarning:\n",
        "            # If convergence of the GPR fails, create a random trial.\n",
        "            return self._random_populate_space()\n",
        "        except ValueError as e:\n",
        "            if 'array must not contain infs or NaNs' in str(e):\n",
        "                return self._random_populate_space()\n",
        "            raise e\n",
        "\n",
        "        def _upper_confidence_bound(x):\n",
        "            x = x.reshape(1, -1)\n",
        "            mu, sigma = self.gpr.predict(x, return_std=True)\n",
        "            return mu - self.beta * sigma\n",
        "\n",
        "        optimal_val = float('inf')\n",
        "        optimal_x = None\n",
        "        num_restarts = 50\n",
        "        bounds = self._get_hp_bounds()\n",
        "        x_seeds = self._random_state.uniform(bounds[:, 0], bounds[:, 1],\n",
        "                                             size=(num_restarts, bounds.shape[0]))\n",
        "        for x_try in x_seeds:\n",
        "            # Sign of score is flipped when maximizing.\n",
        "            result = scipy_optimize.minimize(_upper_confidence_bound,\n",
        "                                             x0=x_try,\n",
        "                                             bounds=bounds,\n",
        "                                             method='L-BFGS-B')\n",
        "            if result.fun[0] < optimal_val:\n",
        "                optimal_val = result.fun[0]\n",
        "                optimal_x = result.x\n",
        "\n",
        "        values = self._vector_to_values(optimal_x)\n",
        "        return {'status': trial_lib.TrialStatus.RUNNING,\n",
        "                'values': values}\n",
        "\n",
        "    def _random_populate_space(self):\n",
        "        values = self._random_values()\n",
        "        if values is None:\n",
        "            return {'status': trial_lib.TrialStatus.STOPPED,\n",
        "                    'values': None}\n",
        "        return {'status': trial_lib.TrialStatus.RUNNING,\n",
        "                'values': values}\n",
        "\n",
        "    def get_state(self):\n",
        "        state = super(BayesianOptimizationOracle, self).get_state()\n",
        "        state.update({\n",
        "            'num_initial_points': self.num_initial_points,\n",
        "            'alpha': self.alpha,\n",
        "            'beta': self.beta,\n",
        "        })\n",
        "        return state\n",
        "\n",
        "    def set_state(self, state):\n",
        "        super(BayesianOptimizationOracle, self).set_state(state)\n",
        "        self.num_initial_points = state['num_initial_points']\n",
        "        self.alpha = state['alpha']\n",
        "        self.beta = state['beta']\n",
        "        self.gpr = self._make_gpr()\n",
        "\n",
        "    def _vectorize_trials(self):\n",
        "        x = []\n",
        "        y = []\n",
        "        ongoing_trials = {t for t in self.ongoing_trials.values()}\n",
        "        for trial in self.trials.values():\n",
        "            # Create a vector representation of each Trial's hyperparameters.\n",
        "            trial_hps = trial.hyperparameters\n",
        "            vector = []\n",
        "            for hp in self._nonfixed_space():\n",
        "                # For hyperparameters not present in the trial (either added after\n",
        "                # the trial or inactive in the trial), set to default value.\n",
        "                if trial_hps.is_active(hp):\n",
        "                    trial_value = trial_hps.values[hp.name]\n",
        "                else:\n",
        "                    trial_value = hp.default\n",
        "\n",
        "                # Embed an HP value into the continuous space [0, 1].\n",
        "                prob = hp_module.value_to_cumulative_prob(trial_value, hp)\n",
        "                vector.append(prob)\n",
        "\n",
        "            if trial in ongoing_trials:\n",
        "                # \"Hallucinate\" the results of ongoing trials. This ensures that\n",
        "                # repeat trials are not selected when running distributed.\n",
        "                x_h = np.array(vector).reshape((1, -1))\n",
        "                y_h_mean, y_h_std = self.gpr.predict(x_h, return_std=True)\n",
        "                # Give a pessimistic estimate of the ongoing trial.\n",
        "                score = y_h_mean[0] + y_h_std[0]\n",
        "            elif trial.status == 'COMPLETED':\n",
        "                score = trial.score\n",
        "                # Always frame the optimization as a minimization for scipy.minimize.\n",
        "                if self.objective.direction == 'max':\n",
        "                    score = -1*score\n",
        "            else:\n",
        "                continue\n",
        "\n",
        "            x.append(vector)\n",
        "            y.append(score)\n",
        "\n",
        "        x = np.array(x)\n",
        "        y = np.array(y)\n",
        "        return x, y\n",
        "\n",
        "    def _vector_to_values(self, vector):\n",
        "        hps = hp_module.HyperParameters()\n",
        "        vector_index = 0\n",
        "        for hp in self.hyperparameters.space:\n",
        "            hps.merge([hp])\n",
        "            if isinstance(hp, hp_module.Fixed):\n",
        "                value = hp.value\n",
        "            else:\n",
        "                prob = vector[vector_index]\n",
        "                vector_index += 1\n",
        "                value = hp_module.cumulative_prob_to_value(prob, hp)\n",
        "\n",
        "            if hps.is_active(hp):\n",
        "                hps.values[hp.name] = value\n",
        "        return hps.values\n",
        "\n",
        "    def _find_closest(self, val, hp):\n",
        "        values = [hp.min_value]\n",
        "        while values[-1] + hp.step <= hp.max_value:\n",
        "            values.append(values[-1] + hp.step)\n",
        "\n",
        "        array = np.asarray(values)\n",
        "        index = (np.abs(values - val)).argmin()\n",
        "        return array[index]\n",
        "\n",
        "    def _nonfixed_space(self):\n",
        "        return [hp for hp in self.hyperparameters.space\n",
        "                if not isinstance(hp, hp_module.Fixed)]\n",
        "\n",
        "    def _get_hp_bounds(self):\n",
        "        bounds = []\n",
        "        for hp in self._nonfixed_space():\n",
        "            bounds.append([0, 1])\n",
        "        return np.array(bounds)\n",
        "\n",
        "\n",
        "class BayesianOptimization(multi_execution_tuner.MultiExecutionTuner):\n",
        "    \"\"\"BayesianOptimization tuning with Gaussian process.\n",
        "\n",
        "    # Arguments:\n",
        "        hypermodel: Instance of HyperModel class\n",
        "            (or callable that takes hyperparameters\n",
        "            and returns a Model instance).\n",
        "        objective: String. Name of model metric to minimize\n",
        "            or maximize, e.g. \"val_accuracy\".\n",
        "        max_trials: Int. Total number of trials\n",
        "            (model configurations) to test at most.\n",
        "            Note that the oracle may interrupt the search\n",
        "            before `max_trial` models have been tested if the search space has\n",
        "            been exhausted.\n",
        "        num_initial_points: Int. The number of randomly generated samples as initial\n",
        "            training data for Bayesian optimization.\n",
        "        alpha: Float or array-like. Value added to the diagonal of\n",
        "            the kernel matrix during fitting.\n",
        "        beta: Float. The balancing factor of exploration and exploitation.\n",
        "            The larger it is, the more explorative it is.\n",
        "        seed: Int. Random seed.\n",
        "        hyperparameters: HyperParameters class instance.\n",
        "            Can be used to override (or register in advance)\n",
        "            hyperparamters in the search space.\n",
        "        tune_new_entries: Whether hyperparameter entries\n",
        "            that are requested by the hypermodel\n",
        "            but that were not specified in `hyperparameters`\n",
        "            should be added to the search space, or not.\n",
        "            If not, then the default value for these parameters\n",
        "            will be used.\n",
        "        allow_new_entries: Whether the hypermodel is allowed\n",
        "            to request hyperparameter entries not listed in\n",
        "            `hyperparameters`.\n",
        "        **kwargs: Keyword arguments relevant to all `Tuner` subclasses.\n",
        "            Please see the docstring for `Tuner`.\n",
        "    \"\"\"\n",
        "\n",
        "    def __init__(self,\n",
        "                 hypermodel,\n",
        "                 objective,\n",
        "                 max_trials,\n",
        "                 num_initial_points=2,\n",
        "                 alpha=1e-4,\n",
        "                 beta=2.6,\n",
        "                 seed=None,\n",
        "                 hyperparameters=None,\n",
        "                 tune_new_entries=True,\n",
        "                 allow_new_entries=True,\n",
        "                 **kwargs):\n",
        "        oracle = BayesianOptimizationOracle(\n",
        "            objective=objective,\n",
        "            max_trials=max_trials,\n",
        "            num_initial_points=num_initial_points,\n",
        "            alpha=alpha,\n",
        "            beta=beta,\n",
        "            seed=seed,\n",
        "            hyperparameters=hyperparameters,\n",
        "            tune_new_entries=tune_new_entries,\n",
        "            allow_new_entries=allow_new_entries)\n",
        "        super(BayesianOptimization, self, ).__init__(oracle=oracle,\n",
        "                                                     hypermodel=hypermodel,\n",
        "                                                     **kwargs)"
      ],
      "execution_count": 31,
      "outputs": []
    },
    {
      "cell_type": "code",
      "metadata": {
        "colab": {
          "base_uri": "https://localhost:8080/"
        },
        "id": "ddfcdnwIydZs",
        "outputId": "bf2bd679-7526-408a-f5fe-6e85d8e8fdf7"
      },
      "source": [
        "bayesian_tuner = BayesianOptimization(\n",
        "    build_model,\n",
        "    overwrite=True,\n",
        "    seed=SEED,\n",
        "    objective='val_accuracy',\n",
        "    max_trials=10,\n",
        "    executions_per_trial=3,\n",
        "    directory='my_dir',\n",
        "    project_name='helloworld')\n",
        "\n",
        "bayesian_tuner.search(train_ds, validation_data=val_ds, epochs=100)"
      ],
      "execution_count": 32,
      "outputs": [
        {
          "output_type": "stream",
          "text": [
            "Trial 10 Complete [00h 00m 28s]\n",
            "val_accuracy: 0.6506666541099548\n",
            "\n",
            "Best val_accuracy So Far: 0.8560000061988831\n",
            "Total elapsed time: 00h 04m 53s\n",
            "INFO:tensorflow:Oracle triggered exit\n"
          ],
          "name": "stdout"
        }
      ]
    },
    {
      "cell_type": "code",
      "metadata": {
        "colab": {
          "base_uri": "https://localhost:8080/",
          "height": 295
        },
        "id": "9BWM-aWKyrQz",
        "outputId": "c0e9908a-0bab-41cc-a763-7702277469e4"
      },
      "source": [
        "accuracy = [bayesian_tuner.oracle.get_trial(trial_id).score for trial_id in bayesian_tuner.oracle.end_order]\n",
        "trial = list(range(len(accuracy)))\n",
        "plot_curve(trial, accuracy, 'Trials in finish order', 'Validation Accuracy', 'Searched Results')"
      ],
      "execution_count": 33,
      "outputs": [
        {
          "output_type": "display_data",
          "data": {
            "image/png": "[encoded data removed]",
            "text/plain": [
              "<Figure size 432x288 with 1 Axes>"
            ]
          },
          "metadata": {
            "tags": [],
            "needs_background": "light"
          }
        }
      ]
    },
    {
      "cell_type": "code",
      "metadata": {
        "colab": {
          "base_uri": "https://localhost:8080/",
          "height": 295
        },
        "id": "CyeO7mwRyxGU",
        "outputId": "e8223af4-5b4e-4bb7-efba-fbde9c68bdd0"
      },
      "source": [
        "high_value = 0\n",
        "high_acc = []\n",
        "for value in accuracy:\n",
        "  high_value = max(high_value, value)\n",
        "  high_acc.append(high_value)\n",
        "plot_curve(trial, high_acc, 'Trials in finish order', 'Highest Validation Accuracy So Far', 'Searched Results')"
      ],
      "execution_count": 34,
      "outputs": [
        {
          "output_type": "display_data",
          "data": {
            "image/png": "[encoded data removed]",
            "text/plain": [
              "<Figure size 432x288 with 1 Axes>"
            ]
          },
          "metadata": {
            "tags": [],
            "needs_background": "light"
          }
        }
      ]
    }
  ]
}