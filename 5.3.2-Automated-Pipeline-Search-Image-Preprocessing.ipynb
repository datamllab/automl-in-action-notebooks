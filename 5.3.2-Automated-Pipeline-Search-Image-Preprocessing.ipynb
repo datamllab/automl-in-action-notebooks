{
 "cells": [
  {
   "cell_type": "code",
   "execution_count": 0,
   "metadata": {
    "colab_type": "code"
   },
   "outputs": [],
   "source": [
    "!pip install -r https://raw.githubusercontent.com/datamllab/automl-in-action-notebooks/master/requirements.txt\n"
   ]
  },
  {
   "cell_type": "code",
   "execution_count": 0,
   "metadata": {
    "colab_type": "code"
   },
   "outputs": [],
   "source": [
    "import tensorflow as tf\n",
    "import autokeras as ak\n"
   ]
  },
  {
   "cell_type": "markdown",
   "metadata": {
    "colab_type": "text"
   },
   "source": [
    "## Load Cifar10 dataset\n"
   ]
  },
  {
   "cell_type": "code",
   "execution_count": 0,
   "metadata": {
    "colab_type": "code"
   },
   "outputs": [],
   "source": [
    "from tensorflow.keras.datasets import cifar10\n",
    "\n",
    "(x_train, y_train), (x_test, y_test) = cifar10.load_data()\n",
    "print(\"Training image shape:\", x_train.shape)  # (60000, 28, 28)\n",
    "print(\"Training label shape:\", y_train.shape)  # (60000,)\n",
    "print(\"First five training labels:\", y_train[:5])  # array([5 0 4 1 9], dtype=uint8)\n"
   ]
  },
  {
   "cell_type": "code",
   "execution_count": 0,
   "metadata": {
    "colab_type": "code"
   },
   "outputs": [],
   "source": [
    "airplane_automobile_indices_train = (y_train[:, 0] == 0) | (y_train[:, 0] == 1)\n",
    "airplane_automobile_indices_test = (y_test[:, 0] == 0) | (y_test[:, 0] == 1)\n",
    "x_train, y_train = (\n",
    "    x_train[airplane_automobile_indices_train],\n",
    "    y_train[airplane_automobile_indices_train],\n",
    ")\n",
    "x_test, y_test = (\n",
    "    x_test[airplane_automobile_indices_test],\n",
    "    y_test[airplane_automobile_indices_test],\n",
    ")\n",
    "print(\"Training image shape:\", x_train.shape)  # (60000, 28, 28)\n",
    "print(\"Training label shape:\", y_train.shape)  # (60000,)\n",
    "print(\"First five training labels:\", y_train[:5])  # array([5 0 4 1 9], dtype=uint8)\n"
   ]
  },
  {
   "cell_type": "code",
   "execution_count": 0,
   "metadata": {
    "colab_type": "code"
   },
   "outputs": [],
   "source": [
    "# plot first few images\n",
    "from matplotlib import pyplot as plt\n",
    "\n",
    "for i in range(9):\n",
    "    # define subplot\n",
    "    plt.subplot(330 + 1 + i)\n",
    "    # plot raw pixel data\n",
    "    plt.imshow(x_train[i])\n",
    "# show the figure\n",
    "plt.show()\n"
   ]
  },
  {
   "cell_type": "markdown",
   "metadata": {
    "colab_type": "text"
   },
   "source": [
    "## Jointly selecting image augmentation and normalization methods for ResNet models\n",
    "(ImageBlock)\n"
   ]
  },
  {
   "cell_type": "code",
   "execution_count": 0,
   "metadata": {
    "colab_type": "code"
   },
   "outputs": [],
   "source": [
    "input_node = ak.ImageInput()\n",
    "output_node = ak.Normalization()(input_node)\n",
    "output_node = ak.ImageAugmentation()(output_node)  # horizontal_flip=False\n",
    "output_node = ak.ResNetBlock(version=\"v2\")(output_node)\n",
    "output_node = ak.ClassificationHead(dropout=0.0)(output_node)\n",
    "clf = ak.AutoModel(\n",
    "    inputs=input_node, outputs=output_node, overwrite=True, max_trials=10\n",
    ")\n",
    "clf.fit(x_train, y_train, epochs=10)\n"
   ]
  },
  {
   "cell_type": "code",
   "execution_count": 0,
   "metadata": {
    "colab_type": "code"
   },
   "outputs": [],
   "source": [
    "import autokeras as ak\n",
    "import timeit\n",
    "\n",
    "input_node = ak.ImageInput()\n",
    "output_node = ak.ImageBlock(\n",
    "    # do not specify if we want to use normalization and let it to search automatically\n",
    "    normalize=None,\n",
    "    # do not specify if we want to use adata ugmentation method and let it to search automatically\n",
    "    augment=None,\n",
    "    # Only search resnet architectures.\n",
    "    block_type=\"resnet\",\n",
    ")(input_node)\n",
    "output_node = ak.ClassificationHead(dropout=0.0)(output_node)\n",
    "\n",
    "auto_model = ak.AutoModel(\n",
    "    inputs=input_node, outputs=output_node, max_trials=10, overwrite=True, seed=42\n",
    ")\n",
    "\n",
    "start_time = timeit.default_timer()\n",
    "auto_model.fit(x_train, y_train, epochs=10, batch_size=64)\n",
    "stop_time = timeit.default_timer()\n",
    "print(\"Total time: {time} seconds.\".format(time=round(stop_time - start_time, 2)))\n"
   ]
  },
  {
   "cell_type": "code",
   "execution_count": 0,
   "metadata": {
    "colab_type": "code"
   },
   "outputs": [],
   "source": [
    "auto_model.tuner.results_summary()\n"
   ]
  },
  {
   "cell_type": "code",
   "execution_count": 0,
   "metadata": {
    "colab_type": "code"
   },
   "outputs": [],
   "source": [
    "best_model = auto_model.export_model()\n",
    "best_model.summary()\n"
   ]
  },
  {
   "cell_type": "code",
   "execution_count": 0,
   "metadata": {
    "colab_type": "code"
   },
   "outputs": [],
   "source": [
    "test_loss, test_acc = auto_model.evaluate(x_test, y_test, verbose=0)\n",
    "print(\"Accuracy: {accuracy}%\".format(accuracy=round(test_acc * 100, 2)))\n"
   ]
  }
 ],
 "metadata": {
  "colab": {
   "collapsed_sections": [],
   "name": "5.3.2-Automated-Pipeline-Search-Image-Preprocessing",
   "private_outputs": false,
   "provenance": [],
   "toc_visible": true
  },
  "kernelspec": {
   "display_name": "Python 3",
   "language": "python",
   "name": "python3"
  },
  "language_info": {
   "codemirror_mode": {
    "name": "ipython",
    "version": 3
   },
   "file_extension": ".py",
   "mimetype": "text/x-python",
   "name": "python",
   "nbconvert_exporter": "python",
   "pygments_lexer": "ipython3",
   "version": "3.7.0"
  }
 },
 "nbformat": 4,
 "nbformat_minor": 0
}