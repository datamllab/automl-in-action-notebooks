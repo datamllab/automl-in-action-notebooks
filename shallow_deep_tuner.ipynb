{
  "nbformat": 4,
  "nbformat_minor": 0,
  "metadata": {
    "colab": {
      "name": "shallow_deep_tuner.ipynb",
      "provenance": [],
      "collapsed_sections": []
    },
    "kernelspec": {
      "name": "python3",
      "display_name": "Python 3"
    }
  },
  "cells": [
    {
      "cell_type": "code",
      "metadata": {
        "id": "HmsPp6NEAMS9",
        "colab": {
          "base_uri": "https://localhost:8080/"
        },
        "outputId": "20dde534-1fbb-4b1e-da7b-8c5fbe85759b"
      },
      "source": [
        "!pip install keras-tuner -q"
      ],
      "execution_count": 1,
      "outputs": [
        {
          "output_type": "stream",
          "text": [
            "\u001b[?25l\r\u001b[K     |█████▏                          | 10kB 16.6MB/s eta 0:00:01\r\u001b[K     |██████████▍                     | 20kB 24.1MB/s eta 0:00:01\r\u001b[K     |███████████████▋                | 30kB 25.0MB/s eta 0:00:01\r\u001b[K     |████████████████████▉           | 40kB 17.7MB/s eta 0:00:01\r\u001b[K     |██████████████████████████      | 51kB 16.8MB/s eta 0:00:01\r\u001b[K     |███████████████████████████████▎| 61kB 17.9MB/s eta 0:00:01\r\u001b[K     |████████████████████████████████| 71kB 5.0MB/s \n",
            "\u001b[?25h  Building wheel for keras-tuner (setup.py) ... \u001b[?25l\u001b[?25hdone\n",
            "  Building wheel for terminaltables (setup.py) ... \u001b[?25l\u001b[?25hdone\n"
          ],
          "name": "stdout"
        }
      ]
    },
    {
      "cell_type": "code",
      "metadata": {
        "id": "zCDptB-hBFF9"
      },
      "source": [
        "import copy\n",
        "import pickle\n",
        "import os\n",
        "\n",
        "import tensorflow as tf\n",
        "\n",
        "from kerastuner.engine import base_tuner\n",
        "\n",
        "class ShallowDeepTuner(base_tuner.BaseTuner):\n",
        "\n",
        "    def __init__(self, *args, **kwargs):\n",
        "        super().__init__(*args, **kwargs)\n",
        "        self.trial_id_to_type = {}\n",
        "\n",
        "    def run_trial(self, trial, x, y, validation_data, epochs=None, **fit_kwargs):\n",
        "        model = self.hypermodel.build(trial.hyperparameters)\n",
        "        x_val, y_val = validation_data  # get the validation data\n",
        "        if isinstance(model, tf.keras.Model):\n",
        "            model.fit(x, y, validation_data=validation_data,\n",
        "                      batch_size=trial.hyperparameters.Choice(\"batch_size\", [16, 32]),\n",
        "                      epochs=epochs,\n",
        "                     **fit_kwargs)\n",
        "            accuracy = {name: value for name, value in zip(\n",
        "                                        model.metrics_names, \n",
        "                                        model.evaluate(x_val, y_val))}['accuracy']\n",
        "            self.trial_id_to_type[trial.trial_id] = 'keras'\n",
        "        else:\n",
        "            model = self.hypermodel.build(trial.hyperparameters) # build the model\n",
        "            model.fit(x, y) # fit the model\n",
        "            accuracy = model.score(x_val, y_val)\n",
        "            self.trial_id_to_type[trial.trial_id] = 'sklearn'\n",
        "        self.oracle.update_trial(trial.trial_id, {'accuracy': accuracy})  # inform the oracle of the eval result, the result is a dictionary with the metric names as the keys.\n",
        "        self.save_model(trial.trial_id, model) # save the model to disk\n",
        "\n",
        "    def save_model(self, trial_id, model):\n",
        "        fname = os.path.join(self.get_trial_dir(trial_id), 'model')\n",
        "        if isinstance(model, tf.keras.Model):\n",
        "            model.save(fname)\n",
        "        else:\n",
        "            with tf.io.gfile.GFile(fname, 'wb') as f:\n",
        "                pickle.dump(model, f)\n",
        "\n",
        "    def load_model(self, trial):\n",
        "        fname = os.path.join(self.get_trial_dir(trial.trial_id), 'model')\n",
        "        if self.trial_id_to_type[trial.trial_id] == 'keras':\n",
        "            model = tf.keras.models.load_model(fname)\n",
        "        else:\n",
        "            with tf.io.gfile.GFile(fname, 'rb') as f:\n",
        "                model = pickle.load(f)\n",
        "        return model"
      ],
      "execution_count": 33,
      "outputs": []
    },
    {
      "cell_type": "code",
      "metadata": {
        "colab": {
          "base_uri": "https://localhost:8080/"
        },
        "id": "ddY_RxbpEl2q",
        "outputId": "c3cf0fbf-08d7-471b-c9ed-7717dc580df1"
      },
      "source": [
        "from sklearn.datasets import load_digits\n",
        "\n",
        "# Load the hand-written digits dataset\n",
        "digits = load_digits()\n",
        "\n",
        "# Get the images and corresponding labels\n",
        "images, labels = digits.images, digits.target\n",
        "images.shape, labels.shape\n",
        "\n",
        "# reshape images to vectors\n",
        "n_samples = len(digits.images)\n",
        "X = digits.images.reshape((n_samples, -1))\n",
        "\n",
        "# Split data into train and test subsets\n",
        "from sklearn.model_selection import train_test_split\n",
        "x_train, x_test, y_train, y_test = train_test_split(\n",
        "    X, labels, test_size=0.2, shuffle=False)\n",
        "x_train, x_val, y_train, y_val = train_test_split(\n",
        "    x_train, y_train, test_size=0.2, shuffle=False)\n",
        "print(x_train.shape)\n",
        "print(y_train.shape)\n",
        "print(x_test.shape)\n",
        "print(y_train[:10])"
      ],
      "execution_count": 34,
      "outputs": [
        {
          "output_type": "stream",
          "text": [
            "(1149, 64)\n",
            "(1149,)\n",
            "(360, 64)\n",
            "[0 1 2 3 4 5 6 7 8 9]\n"
          ],
          "name": "stdout"
        }
      ]
    },
    {
      "cell_type": "code",
      "metadata": {
        "colab": {
          "base_uri": "https://localhost:8080/"
        },
        "id": "uUMOZPlrFLxA",
        "outputId": "9ea935fd-5f7c-4861-b68b-74863abdcae1"
      },
      "source": [
        "from sklearn.svm import SVC\n",
        "from sklearn.ensemble import RandomForestClassifier\n",
        "from kerastuner.engine import hyperparameters as hp\n",
        "import kerastuner as kt\n",
        "\n",
        "\n",
        "def build_model(hp):\n",
        "    model_type = hp.Choice('model_type', ['svm', 'random_forest', 'mlp'], default='mlp')\n",
        "    if model_type == 'svm':\n",
        "        with hp.conditional_scope('model_type', 'svm'):\n",
        "            model = SVC(C=hp.Float('C', 1e-3, 10, sampling='linear', default=1),\n",
        "                        kernel=hp.Choice(\"kernel_type\", ['linear', 'rbf'], default=\"linear\"),\n",
        "                        random_state=42)\n",
        "    elif model_type == 'random_forest':\n",
        "        with hp.conditional_scope('model_type', 'random_forest'):\n",
        "            model = RandomForestClassifier(\n",
        "                n_estimators=hp.Int('n_estimators', 10, 200, step=10),\n",
        "                max_depth=hp.Int('max_depth', 3, 10))\n",
        "    elif model_type == 'mlp':\n",
        "        with hp.conditional_scope('model_type', 'mlp'):\n",
        "            model = tf.keras.Sequential()\n",
        "            model.add(tf.keras.Input(shape=(64,)))\n",
        "            for i in range(hp.Int('num_layers', min_value=1, max_value=4)):\n",
        "              model.add(tf.keras.layers.Dense(hp.Int(\n",
        "                  'units_{i}'.format(i=i), min_value=32, max_value=128, step=32), activation='relu'))\n",
        "            model.add(tf.keras.layers.Dense(10, activation='softmax'))\n",
        "            model.compile(loss='sparse_categorical_crossentropy', metrics=['accuracy'])\n",
        "    else:\n",
        "        raise ValueError('Unrecognized model_type')\n",
        "    return model\n",
        "\n",
        "random_tuner = ShallowDeepTuner(\n",
        "        oracle=kt.oracles.RandomSearch(\n",
        "            objective=kt.Objective('accuracy', 'max'),\n",
        "            max_trials=30,\n",
        "            seed=42),\n",
        "        hypermodel=build_model,\n",
        "        overwrite=True,\n",
        "        project_name='random_tuner')\n",
        "\n",
        "random_tuner.search(x_train, y_train, validation_data=(x_val, y_val),\n",
        "        epochs=10)"
      ],
      "execution_count": 38,
      "outputs": [
        {
          "output_type": "stream",
          "text": [
            "Trial 30 Complete [00h 00m 00s]\n",
            "accuracy: 0.9722222222222222\n",
            "\n",
            "Best accuracy So Far: 0.9861111111111112\n",
            "Total elapsed time: 00h 00m 29s\n",
            "INFO:tensorflow:Oracle triggered exit\n"
          ],
          "name": "stdout"
        }
      ]
    },
    {
      "cell_type": "code",
      "metadata": {
        "colab": {
          "base_uri": "https://localhost:8080/"
        },
        "id": "MPBp0D2WI5x3",
        "outputId": "c078dba6-dd91-47e3-84b2-81b1f27895f8"
      },
      "source": [
        "random_tuner.search_space_summary()\n",
        "random_tuner.results_summary()"
      ],
      "execution_count": 39,
      "outputs": [
        {
          "output_type": "stream",
          "text": [
            "Search space summary\n",
            "Default search space size: 11\n",
            "model_type (Choice)\n",
            "{'default': 'mlp', 'conditions': [], 'values': ['svm', 'random_forest', 'mlp'], 'ordered': False}\n",
            "num_layers (Int)\n",
            "{'default': None, 'conditions': [{'class_name': 'Parent', 'config': {'name': 'model_type', 'values': ['mlp']}}], 'min_value': 1, 'max_value': 4, 'step': 1, 'sampling': None}\n",
            "units_0 (Int)\n",
            "{'default': None, 'conditions': [{'class_name': 'Parent', 'config': {'name': 'model_type', 'values': ['mlp']}}], 'min_value': 32, 'max_value': 128, 'step': 32, 'sampling': None}\n",
            "batch_size (Choice)\n",
            "{'default': 16, 'conditions': [], 'values': [16, 32], 'ordered': True}\n",
            "n_estimators (Int)\n",
            "{'default': None, 'conditions': [{'class_name': 'Parent', 'config': {'name': 'model_type', 'values': ['random_forest']}}], 'min_value': 10, 'max_value': 200, 'step': 10, 'sampling': None}\n",
            "max_depth (Int)\n",
            "{'default': None, 'conditions': [{'class_name': 'Parent', 'config': {'name': 'model_type', 'values': ['random_forest']}}], 'min_value': 3, 'max_value': 10, 'step': 1, 'sampling': None}\n",
            "C (Float)\n",
            "{'default': 1, 'conditions': [{'class_name': 'Parent', 'config': {'name': 'model_type', 'values': ['svm']}}], 'min_value': 0.001, 'max_value': 10.0, 'step': None, 'sampling': 'linear'}\n",
            "kernel_type (Choice)\n",
            "{'default': 'linear', 'conditions': [{'class_name': 'Parent', 'config': {'name': 'model_type', 'values': ['svm']}}], 'values': ['linear', 'rbf'], 'ordered': False}\n",
            "units_1 (Int)\n",
            "{'default': None, 'conditions': [{'class_name': 'Parent', 'config': {'name': 'model_type', 'values': ['mlp']}}], 'min_value': 32, 'max_value': 128, 'step': 32, 'sampling': None}\n",
            "units_2 (Int)\n",
            "{'default': None, 'conditions': [{'class_name': 'Parent', 'config': {'name': 'model_type', 'values': ['mlp']}}], 'min_value': 32, 'max_value': 128, 'step': 32, 'sampling': None}\n",
            "units_3 (Int)\n",
            "{'default': None, 'conditions': [{'class_name': 'Parent', 'config': {'name': 'model_type', 'values': ['mlp']}}], 'min_value': 32, 'max_value': 128, 'step': 32, 'sampling': None}\n",
            "Results summary\n",
            "Results in ./random_tuner\n",
            "Showing 10 best trials\n",
            "Objective(name='accuracy', direction='max')\n",
            "Trial summary\n",
            "Hyperparameters:\n",
            "model_type: svm\n",
            "batch_size: 32\n",
            "C: 4.878307009120731\n",
            "kernel_type: rbf\n",
            "Score: 0.9861111111111112\n",
            "Trial summary\n",
            "Hyperparameters:\n",
            "model_type: svm\n",
            "batch_size: 16\n",
            "C: 2.242630562998417\n",
            "kernel_type: rbf\n",
            "Score: 0.9826388888888888\n",
            "Trial summary\n",
            "Hyperparameters:\n",
            "model_type: svm\n",
            "batch_size: 32\n",
            "C: 9.59964934101936\n",
            "kernel_type: rbf\n",
            "Score: 0.9791666666666666\n",
            "Trial summary\n",
            "Hyperparameters:\n",
            "model_type: svm\n",
            "batch_size: 16\n",
            "C: 8.959127847695159\n",
            "kernel_type: rbf\n",
            "Score: 0.9791666666666666\n",
            "Trial summary\n",
            "Hyperparameters:\n",
            "model_type: svm\n",
            "batch_size: 16\n",
            "C: 0.5245836249105923\n",
            "kernel_type: rbf\n",
            "Score: 0.9791666666666666\n",
            "Trial summary\n",
            "Hyperparameters:\n",
            "model_type: svm\n",
            "batch_size: 32\n",
            "C: 1\n",
            "kernel_type: linear\n",
            "Score: 0.9722222222222222\n",
            "Trial summary\n",
            "Hyperparameters:\n",
            "model_type: svm\n",
            "batch_size: 32\n",
            "C: 9.123521250238133\n",
            "kernel_type: linear\n",
            "Score: 0.9722222222222222\n",
            "Trial summary\n",
            "Hyperparameters:\n",
            "model_type: svm\n",
            "batch_size: 16\n",
            "C: 9.263202272211634\n",
            "kernel_type: linear\n",
            "Score: 0.9722222222222222\n",
            "Trial summary\n",
            "Hyperparameters:\n",
            "model_type: svm\n",
            "batch_size: 16\n",
            "C: 0.4467133729885268\n",
            "kernel_type: linear\n",
            "Score: 0.9722222222222222\n",
            "Trial summary\n",
            "Hyperparameters:\n",
            "model_type: svm\n",
            "batch_size: 32\n",
            "C: 8.70488674960236\n",
            "kernel_type: linear\n",
            "Score: 0.9722222222222222\n"
          ],
          "name": "stdout"
        }
      ]
    },
    {
      "cell_type": "code",
      "metadata": {
        "colab": {
          "base_uri": "https://localhost:8080/"
        },
        "id": "KpiEhyVQJN9s",
        "outputId": "930e529a-42d8-48a4-fbe3-84a3d50d433a"
      },
      "source": [
        "best_model = random_tuner.get_best_models(1)[0]\n",
        "print(type(best_model))"
      ],
      "execution_count": 40,
      "outputs": [
        {
          "output_type": "stream",
          "text": [
            "<class 'sklearn.svm._classes.SVC'>\n"
          ],
          "name": "stdout"
        }
      ]
    },
    {
      "cell_type": "code",
      "metadata": {
        "colab": {
          "base_uri": "https://localhost:8080/"
        },
        "id": "yFQG6sUhKr56",
        "outputId": "a71c87ab-d662-4c63-bc64-df6273888d46"
      },
      "source": [
        "# Evaluate the best discovered model\n",
        "from sklearn.metrics import accuracy_score\n",
        "\n",
        "y_pred_test = best_model.predict(x_test)\n",
        "test_acc = accuracy_score(y_test, y_pred_test)\n",
        "print(\"The prediction accuracy on test set: {:.2f} %\".format(test_acc * 100))"
      ],
      "execution_count": 41,
      "outputs": [
        {
          "output_type": "stream",
          "text": [
            "The prediction accuracy on test set: 95.00 %\n"
          ],
          "name": "stdout"
        }
      ]
    }
  ]
}