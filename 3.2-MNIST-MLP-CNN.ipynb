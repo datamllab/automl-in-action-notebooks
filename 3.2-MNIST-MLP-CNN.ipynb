{
 "cells": [
  {
   "cell_type": "code",
   "execution_count": 0,
   "metadata": {
    "colab_type": "code"
   },
   "outputs": [],
   "source": [
    "!pip install -r https://raw.githubusercontent.com/datamllab/automl-in-action-notebooks/master/requirements.txt\n"
   ]
  },
  {
   "cell_type": "code",
   "execution_count": 0,
   "metadata": {
    "colab_type": "code"
   },
   "outputs": [],
   "source": [
    "import tensorflow as tf\n",
    "\n",
    "tf.random.set_seed(42)\n"
   ]
  },
  {
   "cell_type": "markdown",
   "metadata": {
    "colab_type": "text"
   },
   "source": [
    "## Load data\n"
   ]
  },
  {
   "cell_type": "code",
   "execution_count": 0,
   "metadata": {
    "colab_type": "code"
   },
   "outputs": [],
   "source": [
    "from tensorflow.keras.datasets import mnist\n",
    "\n",
    "(train_images, train_labels), (test_images, test_labels) = mnist.load_data()\n"
   ]
  },
  {
   "cell_type": "markdown",
   "metadata": {
    "colab_type": "text"
   },
   "source": [
    "## Explore data\n"
   ]
  },
  {
   "cell_type": "code",
   "execution_count": 0,
   "metadata": {
    "colab_type": "code"
   },
   "outputs": [],
   "source": [
    "train_images.shape, test_images.shape\n",
    "\n",
    "len(train_labels), len(test_labels)\n",
    "\n",
    "train_labels, test_labels\n",
    "\n",
    "import matplotlib.pyplot as plt\n",
    "\n",
    "plt.figure()\n",
    "plt.imshow(train_images[0])  # , cmap='gray'\n",
    "plt.colorbar()\n",
    "plt.title(\"Label is {label}\".format(label=train_labels[0]))\n",
    "plt.show()\n"
   ]
  },
  {
   "cell_type": "markdown",
   "metadata": {
    "colab_type": "text"
   },
   "source": [
    "## Data Preparation: scaling\n"
   ]
  },
  {
   "cell_type": "code",
   "execution_count": 0,
   "metadata": {
    "colab_type": "code"
   },
   "outputs": [],
   "source": [
    "train_images = train_images / 255.0\n",
    "test_images = test_images / 255.0\n"
   ]
  },
  {
   "cell_type": "code",
   "execution_count": 0,
   "metadata": {
    "colab_type": "code"
   },
   "outputs": [],
   "source": [
    "%matplotlib inline\n"
   ]
  },
  {
   "cell_type": "code",
   "execution_count": 0,
   "metadata": {
    "colab_type": "code"
   },
   "outputs": [],
   "source": [
    "import matplotlib\n",
    "import matplotlib.pyplot as plt\n",
    "\n",
    "# plot first 20 images\n",
    "n = 20\n",
    "_, axes = plt.subplots(2, 10, figsize=(10, 2))\n",
    "plt.tight_layout()\n",
    "for i in range(n):\n",
    "    row, col = i // 10, i % 10\n",
    "    axes[row, col].set_axis_off()\n",
    "    axes[row, col].imshow(\n",
    "        train_images[\n",
    "            i,\n",
    "        ],\n",
    "        cmap=plt.cm.binary,\n",
    "        interpolation=\"nearest\",\n",
    "    )  # plt.cm.gray_r\n",
    "    axes[row, col].set_title(\"Label: %i\" % train_labels[i])\n"
   ]
  },
  {
   "cell_type": "markdown",
   "metadata": {
    "colab_type": "text"
   },
   "source": [
    "## Build MLP\n"
   ]
  },
  {
   "cell_type": "code",
   "execution_count": 0,
   "metadata": {
    "colab_type": "code"
   },
   "outputs": [],
   "source": [
    "from tensorflow import keras\n",
    "from tensorflow.keras import layers\n",
    "\n",
    "mlp_model = keras.Sequential(\n",
    "    [\n",
    "        keras.layers.Flatten(input_shape=train_images.shape[1:]),\n",
    "        keras.layers.Dense(128, activation=\"relu\"),\n",
    "        keras.layers.Dense(10, activation=\"softmax\"),\n",
    "    ]\n",
    ")\n",
    "mlp_model.compile(\n",
    "    optimizer=\"adam\",\n",
    "    loss=tf.keras.losses.SparseCategoricalCrossentropy(),\n",
    "    metrics=[\"accuracy\"],\n",
    ")\n",
    "\n",
    "mlp_model.summary()\n",
    "\n",
    "mlp_model.fit(train_images, train_labels, epochs=5, batch_size=64, verbose=1)\n",
    "\n",
    "test_loss, test_acc = mlp_model.evaluate(test_images, test_labels, verbose=0)\n",
    "test_acc\n"
   ]
  },
  {
   "cell_type": "markdown",
   "metadata": {
    "colab_type": "text"
   },
   "source": [
    "## Build CNN\n"
   ]
  },
  {
   "cell_type": "code",
   "execution_count": 0,
   "metadata": {
    "colab_type": "code"
   },
   "outputs": [],
   "source": [
    "\n",
    "def build_cnn():\n",
    "    model = keras.Sequential(\n",
    "        [\n",
    "            keras.layers.Conv2D(\n",
    "                32, (3, 3), activation=\"relu\", input_shape=train_images.shape[1:] + (1,)\n",
    "            ),\n",
    "            keras.layers.MaxPooling2D((2, 2)),\n",
    "            keras.layers.Conv2D(64, (3, 3), activation=\"relu\"),\n",
    "            keras.layers.MaxPooling2D((2, 2)),\n",
    "            keras.layers.Conv2D(64, (3, 3), activation=\"relu\"),\n",
    "            keras.layers.Flatten(),\n",
    "            keras.layers.Dense(64, activation=\"relu\"),\n",
    "            keras.layers.Dense(10, activation=\"softmax\"),\n",
    "        ]\n",
    "    )\n",
    "\n",
    "    model.compile(\n",
    "        optimizer=\"adam\",\n",
    "        loss=tf.keras.losses.SparseCategoricalCrossentropy(),\n",
    "        metrics=[\"accuracy\"],\n",
    "    )\n",
    "    return model\n",
    "\n",
    "\n",
    "cnn_model = build_cnn()\n",
    "\n",
    "cnn_model.summary()\n",
    "\n",
    "train_images_4d = train_images[..., tf.newaxis]\n",
    "test_images_4d = test_images[..., tf.newaxis]\n",
    "train_images_4d.shape, test_images_4d.shape\n",
    "\n",
    "cnn_model.fit(train_images_4d, train_labels, epochs=5, batch_size=64, verbose=1)\n",
    "\n",
    "test_loss, test_acc = cnn_model.evaluate(test_images_4d, test_labels, verbose=0)\n",
    "test_acc\n"
   ]
  },
  {
   "cell_type": "markdown",
   "metadata": {
    "colab_type": "text"
   },
   "source": [
    "## Make predictions\n"
   ]
  },
  {
   "cell_type": "code",
   "execution_count": 0,
   "metadata": {
    "colab_type": "code"
   },
   "outputs": [],
   "source": [
    "test_predictions = cnn_model.predict(test_images_4d)\n",
    "test_predictions[:5]\n",
    "\n",
    "import numpy as np\n",
    "\n",
    "np.argmax(test_predictions[0])\n",
    "\n",
    "test_labels[0]\n"
   ]
  }
 ],
 "metadata": {
  "colab": {
   "collapsed_sections": [],
   "name": "3.2-MNIST-MLP-CNN",
   "private_outputs": false,
   "provenance": [],
   "toc_visible": true
  },
  "kernelspec": {
   "display_name": "Python 3",
   "language": "python",
   "name": "python3"
  },
  "language_info": {
   "codemirror_mode": {
    "name": "ipython",
    "version": 3
   },
   "file_extension": ".py",
   "mimetype": "text/x-python",
   "name": "python",
   "nbconvert_exporter": "python",
   "pygments_lexer": "ipython3",
   "version": "3.7.0"
  }
 },
 "nbformat": 4,
 "nbformat_minor": 0
}