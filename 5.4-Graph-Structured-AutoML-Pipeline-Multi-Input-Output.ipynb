{
 "cells": [
  {
   "cell_type": "code",
   "execution_count": 0,
   "metadata": {
    "colab_type": "code"
   },
   "outputs": [],
   "source": [
    "!pip install -r https://raw.githubusercontent.com/datamllab/automl-in-action-notebooks/master/requirements.txt\n"
   ]
  },
  {
   "cell_type": "code",
   "execution_count": 0,
   "metadata": {
    "colab_type": "code"
   },
   "outputs": [],
   "source": [
    "import tensorflow as tf\n",
    "import autokeras as ak\n"
   ]
  },
  {
   "cell_type": "markdown",
   "metadata": {
    "colab_type": "text"
   },
   "source": [
    "### Load MNIST dataset\n"
   ]
  },
  {
   "cell_type": "code",
   "execution_count": 0,
   "metadata": {
    "colab_type": "code"
   },
   "outputs": [],
   "source": [
    "import numpy as np\n",
    "\n",
    "num_instances = 1000\n",
    "\n",
    "# Generate image data.\n",
    "image_data = np.random.rand(num_instances, 32, 32, 3).astype(np.float32)\n",
    "image_train, image_test = image_data[:800], image_data[800:]\n",
    "\n",
    "# Generate structured data.\n",
    "structured_data = np.random.choice([\"a\", \"b\", \"c\", \"d\", \"e\"], size=(num_instances, 3))\n",
    "structured_train, structured_test = structured_data[:800], structured_data[800:]\n",
    "\n",
    "\n",
    "# Generate classification labels of five classes.\n",
    "classification_target = np.random.randint(5, size=num_instances)\n",
    "clf_target_train, clf_target_test = (\n",
    "    classification_target[:800],\n",
    "    classification_target[800:],\n",
    ")\n",
    "\n",
    "# Generate regression targets.\n",
    "regression_target = np.random.rand(num_instances, 1).astype(np.float32)\n",
    "reg_target_train, reg_target_test = regression_target[:800], regression_target[800:]\n"
   ]
  },
  {
   "cell_type": "code",
   "execution_count": 0,
   "metadata": {
    "colab_type": "code"
   },
   "outputs": [],
   "source": [
    "structured_train[:5]\n"
   ]
  },
  {
   "cell_type": "markdown",
   "metadata": {
    "colab_type": "text"
   },
   "source": [
    "### Run the ImageClassifier\n"
   ]
  },
  {
   "cell_type": "code",
   "execution_count": 0,
   "metadata": {
    "colab_type": "code"
   },
   "outputs": [],
   "source": [
    "import autokeras as ak\n",
    "\n",
    "input_node1 = ak.ImageInput()\n",
    "branch1 = ak.Normalization()(input_node1)\n",
    "branch1 = ak.ConvBlock()(branch1)\n",
    "\n",
    "input_node2 = ak.StructuredDataInput()\n",
    "branch2 = ak.CategoricalToNumerical()(input_node2)\n",
    "branch2 = ak.DenseBlock()(branch2)\n",
    "\n",
    "merge_node = ak.Merge()([branch1, branch2])\n",
    "output_node1 = ak.ClassificationHead()(merge_node)\n",
    "output_node2 = ak.RegressionHead()(merge_node)\n",
    "\n",
    "\n",
    "auto_model = ak.AutoModel(\n",
    "    inputs=[input_node1, input_node2],\n",
    "    outputs=[output_node1, output_node2],\n",
    "    max_trials=3,\n",
    "    overwrite=True,\n",
    "    seed=42,\n",
    ")\n",
    "\n",
    "auto_model.fit(\n",
    "    [image_train, structured_train],\n",
    "    [clf_target_train, reg_target_train],\n",
    "    epochs=3,\n",
    ")\n"
   ]
  },
  {
   "cell_type": "markdown",
   "metadata": {
    "colab_type": "text"
   },
   "source": [
    "### Get the summarized results during the tuning process (return the best 10 models if\n",
    "existed)\n"
   ]
  },
  {
   "cell_type": "code",
   "execution_count": 0,
   "metadata": {
    "colab_type": "code"
   },
   "outputs": [],
   "source": [
    "auto_model.tuner.results_summary()\n"
   ]
  },
  {
   "cell_type": "markdown",
   "metadata": {
    "colab_type": "text"
   },
   "source": [
    "### Retrieve best model\n"
   ]
  },
  {
   "cell_type": "code",
   "execution_count": 0,
   "metadata": {
    "colab_type": "code"
   },
   "outputs": [],
   "source": [
    "best_model = auto_model.export_model()\n",
    "best_model.summary()\n"
   ]
  },
  {
   "cell_type": "code",
   "execution_count": 0,
   "metadata": {
    "colab_type": "code"
   },
   "outputs": [],
   "source": [
    "tf.keras.utils.plot_model(\n",
    "    best_model, show_shapes=True, expand_nested=True\n",
    ")  # rankdir='LR'\n"
   ]
  },
  {
   "cell_type": "markdown",
   "metadata": {
    "colab_type": "text"
   },
   "source": [
    "### Evaluate the best model on the test data.\n"
   ]
  },
  {
   "cell_type": "code",
   "execution_count": 0,
   "metadata": {
    "colab_type": "code"
   },
   "outputs": [],
   "source": [
    "\n",
    "total_loss, clf_loss, reg_loss, clf_acc, reg_mse = auto_model.evaluate(\n",
    "    [image_test, structured_test],\n",
    "    [clf_target_test, reg_target_test],\n",
    ")\n",
    "print(\"\\nTotal testing loss: \", total_loss)\n",
    "print(\"Classification testing cross-entropy loss: \", clf_loss)\n",
    "print(\"Regression testing MSE loss: \", reg_loss)\n",
    "print(\"Classification testing accuracy: \", clf_acc)\n",
    "print(\"Regression testing MSE: \", reg_mse)\n"
   ]
  }
 ],
 "metadata": {
  "colab": {
   "collapsed_sections": [],
   "name": "5.4-Graph-Structured-AutoML-Pipeline-Multi-Input-Output",
   "private_outputs": false,
   "provenance": [],
   "toc_visible": true
  },
  "kernelspec": {
   "display_name": "Python 3",
   "language": "python",
   "name": "python3"
  },
  "language_info": {
   "codemirror_mode": {
    "name": "ipython",
    "version": 3
   },
   "file_extension": ".py",
   "mimetype": "text/x-python",
   "name": "python",
   "nbconvert_exporter": "python",
   "pygments_lexer": "ipython3",
   "version": "3.7.0"
  }
 },
 "nbformat": 4,
 "nbformat_minor": 0
}