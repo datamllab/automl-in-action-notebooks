{
 "cells": [
  {
   "cell_type": "code",
   "execution_count": 0,
   "metadata": {
    "colab_type": "code"
   },
   "outputs": [],
   "source": [
    "!pip install -r https://raw.githubusercontent.com/datamllab/automl-in-action-notebooks/master/requirements.txt\n"
   ]
  },
  {
   "cell_type": "code",
   "execution_count": 0,
   "metadata": {
    "colab_type": "code"
   },
   "outputs": [],
   "source": [
    "import tensorflow as tf\n",
    "import autokeras as ak\n"
   ]
  },
  {
   "cell_type": "markdown",
   "metadata": {
    "colab_type": "text"
   },
   "source": [
    "### Tuning MLP for structured-data regression  (Normalization + DenseBlock)\n"
   ]
  },
  {
   "cell_type": "code",
   "execution_count": 0,
   "metadata": {
    "colab_type": "code"
   },
   "outputs": [],
   "source": [
    "input_node = ak.StructuredDataInput()\n",
    "output_node = ak.Normalization()(input_node)\n",
    "output_node = ak.DenseBlock(use_batchnorm=False, dropout=0.0)(output_node)\n",
    "output_node = ak.RegressionHead(dropout=0.0)(output_node)\n",
    "auto_model = ak.AutoModel(\n",
    "    inputs=input_node, outputs=output_node, max_trials=10, overwrite=True, seed=42\n",
    ")\n",
    "\n",
    "from sklearn.datasets import fetch_california_housing\n",
    "\n",
    "house_dataset = fetch_california_housing()\n",
    "\n",
    "# Import pandas package to format the data\n",
    "import pandas as pd\n",
    "\n",
    "# Extract features with their names into the a dataframe format\n",
    "data = pd.DataFrame(house_dataset.data, columns=house_dataset.feature_names)\n",
    "\n",
    "# Extract target with their names into a pd.Series object with name MEDV\n",
    "target = pd.Series(house_dataset.target, name=\"MEDV\")\n",
    "\n",
    "from sklearn.model_selection import train_test_split\n",
    "\n",
    "train_data, test_data, train_targets, test_targets = train_test_split(\n",
    "    data, target, test_size=0.2, random_state=42\n",
    ")\n",
    "\n",
    "auto_model.fit(train_data, train_targets, batch_size=1024, epochs=150)\n"
   ]
  },
  {
   "cell_type": "markdown",
   "metadata": {
    "colab_type": "text"
   },
   "source": [
    "### Visualize the best pipeline\n"
   ]
  },
  {
   "cell_type": "code",
   "execution_count": 0,
   "metadata": {
    "colab_type": "code"
   },
   "outputs": [],
   "source": [
    "best_model = auto_model.export_model()\n",
    "tf.keras.utils.plot_model(\n",
    "    best_model, show_shapes=True, expand_nested=True\n",
    ")  # rankdir='LR'\n"
   ]
  },
  {
   "cell_type": "markdown",
   "metadata": {
    "colab_type": "text"
   },
   "source": [
    "### Evaluate best pipeline\n"
   ]
  },
  {
   "cell_type": "code",
   "execution_count": 0,
   "metadata": {
    "colab_type": "code"
   },
   "outputs": [],
   "source": [
    "test_loss, test_acc = auto_model.evaluate(test_data, test_targets, verbose=0)\n",
    "print(\"Test accuracy: \", test_acc)\n"
   ]
  },
  {
   "cell_type": "markdown",
   "metadata": {
    "colab_type": "text"
   },
   "source": [
    "### Show best trial\n"
   ]
  },
  {
   "cell_type": "code",
   "execution_count": 0,
   "metadata": {
    "colab_type": "code"
   },
   "outputs": [],
   "source": [
    "auto_model.tuner.results_summary(num_trials=1)\n",
    "best_model = auto_model.export_model()\n",
    "tf.keras.utils.plot_model(best_model, show_shapes=True, expand_nested=True)\n",
    "\n",
    "from tensorflow import keras\n",
    "\n",
    "best_model.save(\"saved_model\")\n",
    "best_model = keras.models.load_model(\"saved_model\")\n"
   ]
  },
  {
   "cell_type": "markdown",
   "metadata": {
    "colab_type": "text"
   },
   "source": [
    "### Customize the search space for tuning MLP\n"
   ]
  },
  {
   "cell_type": "code",
   "execution_count": 0,
   "metadata": {
    "colab_type": "code"
   },
   "outputs": [],
   "source": [
    "from keras_tuner.engine import hyperparameters as hp\n",
    "\n",
    "input_node = ak.StructuredDataInput()\n",
    "output_node = ak.Normalization()(input_node)\n",
    "output_node = ak.DenseBlock(\n",
    "    num_layers=1,\n",
    "    num_units=hp.Choice(\"num_units\", [128, 256, 512, 1024]),\n",
    "    use_batchnorm=False,\n",
    "    dropout=0.0,\n",
    ")(output_node)\n",
    "output_node = ak.DenseBlock(\n",
    "    num_layers=1,\n",
    "    num_units=hp.Choice(\"num_units\", [16, 32, 64]),\n",
    "    use_batchnorm=False,\n",
    "    dropout=0.0,\n",
    ")(output_node)\n",
    "output_node = ak.RegressionHead()(output_node)\n",
    "auto_model = ak.AutoModel(\n",
    "    inputs=input_node, outputs=output_node, max_trials=10, overwrite=True, seed=42\n",
    ")\n",
    "\n",
    "auto_model.fit(train_data, train_targets, batch_size=1024, epochs=150)\n",
    "\n"
   ]
  },
  {
   "cell_type": "markdown",
   "metadata": {
    "colab_type": "text"
   },
   "source": [
    "### Display the best pipeline\n"
   ]
  },
  {
   "cell_type": "code",
   "execution_count": 0,
   "metadata": {
    "colab_type": "code"
   },
   "outputs": [],
   "source": [
    "best_model = auto_model.export_model()\n",
    "tf.keras.utils.plot_model(\n",
    "    best_model, show_shapes=True, expand_nested=True\n",
    ")  # rankdir='LR'\n",
    "\n",
    "test_loss, test_acc = auto_model.evaluate(test_data, test_targets, verbose=0)\n",
    "print(\"Test accuracy: \", test_acc)\n",
    "\n",
    "auto_model.tuner.results_summary(num_trials=1)\n",
    "\n",
    "best_model.summary()\n"
   ]
  }
 ],
 "metadata": {
  "colab": {
   "collapsed_sections": [],
   "name": "5.2.1-Tuning-MLP-Structured-Data-Regression",
   "private_outputs": false,
   "provenance": [],
   "toc_visible": true
  },
  "kernelspec": {
   "display_name": "Python 3",
   "language": "python",
   "name": "python3"
  },
  "language_info": {
   "codemirror_mode": {
    "name": "ipython",
    "version": 3
   },
   "file_extension": ".py",
   "mimetype": "text/x-python",
   "name": "python",
   "nbconvert_exporter": "python",
   "pygments_lexer": "ipython3",
   "version": "3.7.0"
  }
 },
 "nbformat": 4,
 "nbformat_minor": 0
}